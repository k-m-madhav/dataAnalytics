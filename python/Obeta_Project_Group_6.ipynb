{
 "cells": [
  {
   "cell_type": "code",
   "execution_count": 19,
   "metadata": {},
   "outputs": [],
   "source": [
    "import pandas as pd\n",
    "import numpy as np\n",
    "import matplotlib.pyplot as plt\n",
    "import seaborn as sns\n",
    "from scipy.stats import skew, kurtosis, norm, zscore\n",
    "\n",
    "from sklearn.model_selection import train_test_split\n",
    "from sklearn.preprocessing import StandardScaler, OneHotEncoder\n",
    "from sklearn.compose import ColumnTransformer\n",
    "from sklearn.pipeline import Pipeline\n",
    "from sklearn.impute import SimpleImputer\n",
    "from sklearn.ensemble import RandomForestRegressor, GradientBoostingRegressor\n",
    "from sklearn.neighbors import KNeighborsRegressor\n",
    "from sklearn.tree import DecisionTreeRegressor\n",
    "from sklearn.linear_model import LinearRegression\n",
    "import xgboost as xgb\n",
    "import lightgbm as lgb\n",
    "from sklearn.metrics import mean_squared_error, r2_score\n",
    "\n",
    "import time\n",
    "\n",
    "# to ignore warnings\n",
    "import warnings\n",
    "\n",
    "warnings.filterwarnings(\"ignore\")"
   ]
  },
  {
   "cell_type": "markdown",
   "metadata": {},
   "source": [
    "Load the two Datasets"
   ]
  },
  {
   "cell_type": "code",
   "execution_count": 2,
   "metadata": {},
   "outputs": [
    {
     "name": "stdout",
     "output_type": "stream",
     "text": [
      "(33888990, 8)\n",
      "<class 'pandas.core.frame.DataFrame'>\n",
      "RangeIndex: 33888990 entries, 0 to 33888989\n",
      "Data columns (total 8 columns):\n",
      " #   Column             Dtype \n",
      "---  ------             ----- \n",
      " 0   SKU                object\n",
      " 1   Warehouse_Section  object\n",
      " 2   Origin             int64 \n",
      " 3   Order_No           object\n",
      " 4   Position_in_Order  int64 \n",
      " 5   Pick_Volume        int64 \n",
      " 6   Unit               object\n",
      " 7   Date               object\n",
      "dtypes: int64(3), object(5)\n",
      "memory usage: 2.0+ GB\n"
     ]
    }
   ],
   "source": [
    "pick_data_original = pd.read_csv(\n",
    "    \"003_pick_data.csv\",\n",
    "    names=[\n",
    "        \"SKU\", \"Warehouse_Section\",\n",
    "        \"Origin\", \"Order_No\",\n",
    "        \"Position_in_Order\", \"Pick_Volume\",\n",
    "        \"Unit\", \"Date\",\n",
    "    ],\n",
    "    header=None,\n",
    "    encoding=\"latin1\",\n",
    "    low_memory=False,\n",
    ")\n",
    "print(pick_data_original.shape)\n",
    "pick_data_original.info()"
   ]
  },
  {
   "cell_type": "code",
   "execution_count": 3,
   "metadata": {},
   "outputs": [
    {
     "name": "stdout",
     "output_type": "stream",
     "text": [
      "(2199644, 3)\n",
      "<class 'pandas.core.frame.DataFrame'>\n",
      "RangeIndex: 2199644 entries, 0 to 2199643\n",
      "Data columns (total 3 columns):\n",
      " #   Column         Dtype \n",
      "---  ------         ----- \n",
      " 0   SKU            object\n",
      " 1   Description    object\n",
      " 2   Product_Group  object\n",
      "dtypes: object(3)\n",
      "memory usage: 50.3+ MB\n"
     ]
    }
   ],
   "source": [
    "product_data_original = pd.read_csv(\n",
    "    \"002_product_data.csv\",\n",
    "    names=[\"SKU\", \"Description\", \"Product_Group\"],\n",
    "    header=None,\n",
    "    encoding=\"latin1\",\n",
    "    engine=\"python\",\n",
    "    error_bad_lines=False,\n",
    "    quoting=3,\n",
    ")\n",
    "print(product_data_original.shape)\n",
    "product_data_original.info()"
   ]
  },
  {
   "cell_type": "markdown",
   "metadata": {},
   "source": [
    "Handling Mixed Datatypes"
   ]
  },
  {
   "cell_type": "code",
   "execution_count": 5,
   "metadata": {},
   "outputs": [
    {
     "name": "stdout",
     "output_type": "stream",
     "text": [
      "<class 'pandas.core.frame.DataFrame'>\n",
      "RangeIndex: 33888990 entries, 0 to 33888989\n",
      "Data columns (total 8 columns):\n",
      " #   Column             Dtype         \n",
      "---  ------             -----         \n",
      " 0   SKU                string        \n",
      " 1   Warehouse_Section  category      \n",
      " 2   Origin             int64         \n",
      " 3   Order_No           string        \n",
      " 4   Position_in_Order  int64         \n",
      " 5   Pick_Volume        int64         \n",
      " 6   Unit               category      \n",
      " 7   Date               datetime64[ns]\n",
      "dtypes: category(2), datetime64[ns](1), int64(3), string(2)\n",
      "memory usage: 1.6 GB\n"
     ]
    }
   ],
   "source": [
    "# Converting the variables to the appropriate datatypes helps with better memory efficiency\n",
    "pick_data_original[[\"Warehouse_Section\", \"Unit\"]] = pick_data_original[[\"Warehouse_Section\", \"Unit\"]].astype(\"category\")\n",
    "pick_data_original[[\"SKU\", \"Order_No\"]] = pick_data_original[[\"SKU\", \"Order_No\"]].astype(\"string\")\n",
    "pick_data_original[\"Date\"] = pd.to_datetime(pick_data_original[\"Date\"], format=\"%Y-%m-%d %H:%M:%S\", errors=\"coerce\")\n",
    "pick_data_original.info()"
   ]
  },
  {
   "cell_type": "code",
   "execution_count": 6,
   "metadata": {},
   "outputs": [
    {
     "name": "stdout",
     "output_type": "stream",
     "text": [
      "<class 'pandas.core.frame.DataFrame'>\n",
      "RangeIndex: 2199644 entries, 0 to 2199643\n",
      "Data columns (total 3 columns):\n",
      " #   Column         Dtype \n",
      "---  ------         ----- \n",
      " 0   SKU            string\n",
      " 1   Description    string\n",
      " 2   Product_Group  string\n",
      "dtypes: string(3)\n",
      "memory usage: 50.3 MB\n"
     ]
    }
   ],
   "source": [
    "product_data_original[[\"SKU\", \"Description\", \"Product_Group\"]] = product_data_original[\n",
    "    [\"SKU\", \"Description\", \"Product_Group\"]].astype(\"string\")\n",
    "product_data_original.info()"
   ]
  },
  {
   "cell_type": "markdown",
   "metadata": {},
   "source": [
    "Display the first 5 records of each dataset"
   ]
  },
  {
   "cell_type": "code",
   "execution_count": 7,
   "metadata": {},
   "outputs": [
    {
     "data": {
      "text/html": [
       "<div>\n",
       "<style scoped>\n",
       "    .dataframe tbody tr th:only-of-type {\n",
       "        vertical-align: middle;\n",
       "    }\n",
       "\n",
       "    .dataframe tbody tr th {\n",
       "        vertical-align: top;\n",
       "    }\n",
       "\n",
       "    .dataframe thead th {\n",
       "        text-align: right;\n",
       "    }\n",
       "</style>\n",
       "<table border=\"1\" class=\"dataframe\">\n",
       "  <thead>\n",
       "    <tr style=\"text-align: right;\">\n",
       "      <th></th>\n",
       "      <th>SKU</th>\n",
       "      <th>Warehouse_Section</th>\n",
       "      <th>Origin</th>\n",
       "      <th>Order_No</th>\n",
       "      <th>Position_in_Order</th>\n",
       "      <th>Pick_Volume</th>\n",
       "      <th>Unit</th>\n",
       "      <th>Date</th>\n",
       "    </tr>\n",
       "  </thead>\n",
       "  <tbody>\n",
       "    <tr>\n",
       "      <th>0</th>\n",
       "      <td>000002</td>\n",
       "      <td>SHL</td>\n",
       "      <td>48</td>\n",
       "      <td>07055448</td>\n",
       "      <td>1</td>\n",
       "      <td>29</td>\n",
       "      <td>St</td>\n",
       "      <td>2017-06-30 11:15:24</td>\n",
       "    </tr>\n",
       "    <tr>\n",
       "      <th>1</th>\n",
       "      <td>000002</td>\n",
       "      <td>SHL</td>\n",
       "      <td>48</td>\n",
       "      <td>07055448</td>\n",
       "      <td>1</td>\n",
       "      <td>30</td>\n",
       "      <td>St</td>\n",
       "      <td>2017-06-30 11:22:35</td>\n",
       "    </tr>\n",
       "    <tr>\n",
       "      <th>2</th>\n",
       "      <td>000002</td>\n",
       "      <td>SHL</td>\n",
       "      <td>48</td>\n",
       "      <td>07055448</td>\n",
       "      <td>1</td>\n",
       "      <td>30</td>\n",
       "      <td>St</td>\n",
       "      <td>2017-06-30 12:04:50</td>\n",
       "    </tr>\n",
       "    <tr>\n",
       "      <th>3</th>\n",
       "      <td>000002</td>\n",
       "      <td>SHL</td>\n",
       "      <td>48</td>\n",
       "      <td>07055448</td>\n",
       "      <td>1</td>\n",
       "      <td>20</td>\n",
       "      <td>St</td>\n",
       "      <td>2017-06-30 12:04:51</td>\n",
       "    </tr>\n",
       "    <tr>\n",
       "      <th>4</th>\n",
       "      <td>000002</td>\n",
       "      <td>SHL</td>\n",
       "      <td>48</td>\n",
       "      <td>07055448</td>\n",
       "      <td>1</td>\n",
       "      <td>30</td>\n",
       "      <td>St</td>\n",
       "      <td>2017-06-30 12:05:02</td>\n",
       "    </tr>\n",
       "  </tbody>\n",
       "</table>\n",
       "</div>"
      ],
      "text/plain": [
       "      SKU Warehouse_Section  Origin  Order_No  Position_in_Order  Pick_Volume  \\\n",
       "0  000002               SHL      48  07055448                  1           29   \n",
       "1  000002               SHL      48  07055448                  1           30   \n",
       "2  000002               SHL      48  07055448                  1           30   \n",
       "3  000002               SHL      48  07055448                  1           20   \n",
       "4  000002               SHL      48  07055448                  1           30   \n",
       "\n",
       "  Unit                Date  \n",
       "0   St 2017-06-30 11:15:24  \n",
       "1   St 2017-06-30 11:22:35  \n",
       "2   St 2017-06-30 12:04:50  \n",
       "3   St 2017-06-30 12:04:51  \n",
       "4   St 2017-06-30 12:05:02  "
      ]
     },
     "execution_count": 7,
     "metadata": {},
     "output_type": "execute_result"
    }
   ],
   "source": [
    "pick_data_original.head()"
   ]
  },
  {
   "cell_type": "code",
   "execution_count": 8,
   "metadata": {},
   "outputs": [
    {
     "data": {
      "text/html": [
       "<div>\n",
       "<style scoped>\n",
       "    .dataframe tbody tr th:only-of-type {\n",
       "        vertical-align: middle;\n",
       "    }\n",
       "\n",
       "    .dataframe tbody tr th {\n",
       "        vertical-align: top;\n",
       "    }\n",
       "\n",
       "    .dataframe thead th {\n",
       "        text-align: right;\n",
       "    }\n",
       "</style>\n",
       "<table border=\"1\" class=\"dataframe\">\n",
       "  <thead>\n",
       "    <tr style=\"text-align: right;\">\n",
       "      <th></th>\n",
       "      <th>SKU</th>\n",
       "      <th>Description</th>\n",
       "      <th>Product_Group</th>\n",
       "    </tr>\n",
       "  </thead>\n",
       "  <tbody>\n",
       "    <tr>\n",
       "      <th>0</th>\n",
       "      <td>000052</td>\n",
       "      <td>\"PUNCH II MSW1 1500mm PUN\"</td>\n",
       "      <td>35_Leuchten</td>\n",
       "    </tr>\n",
       "    <tr>\n",
       "      <th>1</th>\n",
       "      <td>1036628</td>\n",
       "      <td>\"H05VV-F2X1 5WS 50M\"</td>\n",
       "      <td>16_Sonderverkäufe</td>\n",
       "    </tr>\n",
       "    <tr>\n",
       "      <th>2</th>\n",
       "      <td>1052053</td>\n",
       "      <td>\"H07RN-F3G1 100M\"</td>\n",
       "      <td>16_Sonderverkäufe</td>\n",
       "    </tr>\n",
       "    <tr>\n",
       "      <th>3</th>\n",
       "      <td>110109</td>\n",
       "      <td>\"SIEM DELTA Doppelta 2S 5TD2111\"</td>\n",
       "      <td>32_Schalter_Steckvorrichtg</td>\n",
       "    </tr>\n",
       "    <tr>\n",
       "      <th>4</th>\n",
       "      <td>110125</td>\n",
       "      <td>\"SIEM PLUS Wip Univ ews 5TG7581\"</td>\n",
       "      <td>32_Schalter_Steckvorrichtg</td>\n",
       "    </tr>\n",
       "  </tbody>\n",
       "</table>\n",
       "</div>"
      ],
      "text/plain": [
       "       SKU                       Description               Product_Group\n",
       "0   000052        \"PUNCH II MSW1 1500mm PUN\"                 35_Leuchten\n",
       "1  1036628              \"H05VV-F2X1 5WS 50M\"           16_Sonderverkäufe\n",
       "2  1052053                 \"H07RN-F3G1 100M\"           16_Sonderverkäufe\n",
       "3   110109  \"SIEM DELTA Doppelta 2S 5TD2111\"  32_Schalter_Steckvorrichtg\n",
       "4   110125  \"SIEM PLUS Wip Univ ews 5TG7581\"  32_Schalter_Steckvorrichtg"
      ]
     },
     "execution_count": 8,
     "metadata": {},
     "output_type": "execute_result"
    }
   ],
   "source": [
    "product_data_original.head()"
   ]
  },
  {
   "cell_type": "markdown",
   "metadata": {},
   "source": [
    "Analyzing and Cleaning Product Data dataset"
   ]
  },
  {
   "cell_type": "code",
   "execution_count": 9,
   "metadata": {},
   "outputs": [
    {
     "data": {
      "text/plain": [
       "SKU                 0\n",
       "Description      6023\n",
       "Product_Group       0\n",
       "dtype: int64"
      ]
     },
     "execution_count": 9,
     "metadata": {},
     "output_type": "execute_result"
    }
   ],
   "source": [
    "product_data_transformed = product_data_original.copy(deep=True)\n",
    "product_data_transformed[\"Description\"] = product_data_transformed[\"Description\"].replace('\"\"', np.nan)\n",
    "product_data_transformed.isnull().sum()"
   ]
  },
  {
   "cell_type": "markdown",
   "metadata": {},
   "source": [
    "Replace the null Descriptions with the value \"No Description\""
   ]
  },
  {
   "cell_type": "code",
   "execution_count": 10,
   "metadata": {},
   "outputs": [
    {
     "name": "stdout",
     "output_type": "stream",
     "text": [
      "SKU              2199644\n",
      "Description      1422863\n",
      "Product_Group         18\n",
      "dtype: int64\n",
      "<class 'pandas.core.frame.DataFrame'>\n",
      "RangeIndex: 2199644 entries, 0 to 2199643\n",
      "Data columns (total 3 columns):\n",
      " #   Column         Dtype \n",
      "---  ------         ----- \n",
      " 0   SKU            string\n",
      " 1   Description    string\n",
      " 2   Product_Group  string\n",
      "dtypes: string(3)\n",
      "memory usage: 50.3 MB\n",
      "None\n"
     ]
    }
   ],
   "source": [
    "# Strip any leading or trailing double quotes from Description\n",
    "product_data_transformed[\"Description\"] = product_data_transformed[\"Description\"].str.strip('\"')\n",
    "product_data_transformed[\"Description\"] = product_data_transformed[\"Description\"].fillna(\"No Description\")\n",
    "print(product_data_transformed.nunique())\n",
    "print(product_data_transformed.info())"
   ]
  },
  {
   "cell_type": "markdown",
   "metadata": {},
   "source": [
    "### Dealing with Umlauts"
   ]
  },
  {
   "cell_type": "code",
   "execution_count": 13,
   "metadata": {},
   "outputs": [
    {
     "data": {
      "text/html": [
       "<div>\n",
       "<style scoped>\n",
       "    .dataframe tbody tr th:only-of-type {\n",
       "        vertical-align: middle;\n",
       "    }\n",
       "\n",
       "    .dataframe tbody tr th {\n",
       "        vertical-align: top;\n",
       "    }\n",
       "\n",
       "    .dataframe thead th {\n",
       "        text-align: right;\n",
       "    }\n",
       "</style>\n",
       "<table border=\"1\" class=\"dataframe\">\n",
       "  <thead>\n",
       "    <tr style=\"text-align: right;\">\n",
       "      <th></th>\n",
       "      <th>SKU</th>\n",
       "      <th>Description</th>\n",
       "      <th>Product_Group</th>\n",
       "    </tr>\n",
       "  </thead>\n",
       "  <tbody>\n",
       "    <tr>\n",
       "      <th>0</th>\n",
       "      <td>000052</td>\n",
       "      <td>PUNCH II MSW1 1500mm PUN</td>\n",
       "      <td>35_Leuchten</td>\n",
       "    </tr>\n",
       "    <tr>\n",
       "      <th>1</th>\n",
       "      <td>1036628</td>\n",
       "      <td>H05VV-F2X1 5WS 50M</td>\n",
       "      <td>16_Sonderverkaeufe</td>\n",
       "    </tr>\n",
       "    <tr>\n",
       "      <th>2</th>\n",
       "      <td>1052053</td>\n",
       "      <td>H07RN-F3G1 100M</td>\n",
       "      <td>16_Sonderverkaeufe</td>\n",
       "    </tr>\n",
       "    <tr>\n",
       "      <th>3</th>\n",
       "      <td>110109</td>\n",
       "      <td>SIEM DELTA Doppelta 2S 5TD2111</td>\n",
       "      <td>32_Schalter_Steckvorrichtg</td>\n",
       "    </tr>\n",
       "    <tr>\n",
       "      <th>4</th>\n",
       "      <td>110125</td>\n",
       "      <td>SIEM PLUS Wip Univ ews 5TG7581</td>\n",
       "      <td>32_Schalter_Steckvorrichtg</td>\n",
       "    </tr>\n",
       "  </tbody>\n",
       "</table>\n",
       "</div>"
      ],
      "text/plain": [
       "       SKU                     Description               Product_Group\n",
       "0   000052        PUNCH II MSW1 1500mm PUN                 35_Leuchten\n",
       "1  1036628              H05VV-F2X1 5WS 50M          16_Sonderverkaeufe\n",
       "2  1052053                 H07RN-F3G1 100M          16_Sonderverkaeufe\n",
       "3   110109  SIEM DELTA Doppelta 2S 5TD2111  32_Schalter_Steckvorrichtg\n",
       "4   110125  SIEM PLUS Wip Univ ews 5TG7581  32_Schalter_Steckvorrichtg"
      ]
     },
     "execution_count": 13,
     "metadata": {},
     "output_type": "execute_result"
    }
   ],
   "source": [
    "# Step 1: Define a mapping for the German umlauts to their respective replacements\n",
    "umlaut_mapping = {\n",
    "    \"ä\": \"ae\", \"ö\": \"oe\",\n",
    "    \"ü\": \"ue\", \"ß\": \"ss\",\n",
    "    \"Ä\": \"Ae\", \"Ö\": \"Oe\",\n",
    "    \"Ü\": \"Ue\",\n",
    "}\n",
    "\n",
    "# Step 2: Define a function to replace umlauts using the mapping\n",
    "def replace_umlauts(text):\n",
    "    \"\"\"\n",
    "    Replaces German umlauts and the 'ß' character in the input string with their respective replacements.\n",
    "    \n",
    "    The function uses a predefined mapping for common German umlauts:\n",
    "        - ä -> ae\n",
    "        - ö -> oe\n",
    "        - ü -> ue\n",
    "        - ß -> ss\n",
    "        - Ä -> Ae\n",
    "        - Ö -> Oe\n",
    "        - Ü -> Ue\n",
    "    \n",
    "    Args:\n",
    "        text (str): A string in which umlauts and 'ß' will be replaced.\n",
    "    \n",
    "    Returns:\n",
    "        str: A string with all occurrences of umlauts replaced by their corresponding values.\n",
    "              If the input is not a string, the original value is returned unchanged.\n",
    "    \"\"\"\n",
    "    if isinstance(text, str):  # Ensure that the input is a string\n",
    "        for umlaut, replacement in umlaut_mapping.items():\n",
    "            text = text.replace(umlaut, replacement)\n",
    "    return text\n",
    "\n",
    "product_data_transformed[[\"Description\", \"Product_Group\"]] = product_data_transformed[\n",
    "    [\"Description\", \"Product_Group\"]].applymap(replace_umlauts)\n",
    "\n",
    "product_data_transformed.head()"
   ]
  },
  {
   "cell_type": "markdown",
   "metadata": {},
   "source": [
    "### Analyzing Pick Data dataset"
   ]
  },
  {
   "cell_type": "code",
   "execution_count": 14,
   "metadata": {},
   "outputs": [
    {
     "data": {
      "text/plain": [
       "8024"
      ]
     },
     "execution_count": 14,
     "metadata": {},
     "output_type": "execute_result"
    }
   ],
   "source": [
    "pick_data_original.duplicated().sum()"
   ]
  },
  {
   "cell_type": "markdown",
   "metadata": {},
   "source": [
    "Removing the duplicates and storing in a new DataFrame called `pick_data_transformed` that'll contain all future transformations"
   ]
  },
  {
   "cell_type": "code",
   "execution_count": 15,
   "metadata": {},
   "outputs": [
    {
     "name": "stdout",
     "output_type": "stream",
     "text": [
      "<class 'pandas.core.frame.DataFrame'>\n",
      "Int64Index: 33880966 entries, 0 to 33888989\n",
      "Data columns (total 8 columns):\n",
      " #   Column             Dtype         \n",
      "---  ------             -----         \n",
      " 0   SKU                string        \n",
      " 1   Warehouse_Section  category      \n",
      " 2   Origin             int64         \n",
      " 3   Order_No           string        \n",
      " 4   Position_in_Order  int64         \n",
      " 5   Pick_Volume        int64         \n",
      " 6   Unit               category      \n",
      " 7   Date               datetime64[ns]\n",
      "dtypes: category(2), datetime64[ns](1), int64(3), string(2)\n",
      "memory usage: 1.8 GB\n"
     ]
    }
   ],
   "source": [
    "pick_data_transformed = pick_data_original.drop_duplicates()\n",
    "pick_data_transformed.info()"
   ]
  },
  {
   "cell_type": "code",
   "execution_count": 16,
   "metadata": {},
   "outputs": [
    {
     "data": {
      "text/plain": [
       "SKU                     97317\n",
       "Warehouse_Section           5\n",
       "Origin                      2\n",
       "Order_No              6928668\n",
       "Position_in_Order         340\n",
       "Pick_Volume              1690\n",
       "Unit                        9\n",
       "Date                 22874561\n",
       "dtype: int64"
      ]
     },
     "execution_count": 16,
     "metadata": {},
     "output_type": "execute_result"
    }
   ],
   "source": [
    "pick_data_transformed.nunique()"
   ]
  },
  {
   "cell_type": "markdown",
   "metadata": {},
   "source": [
    "### Repeating Order Numbers\n",
    "\n",
    "Objective: We observed that certain Order Numbers reappear multiple times in the dataset across multiple years. Hence, we need to correct the occurences of such Orders. For example, the `Order_No` \"01000022\" has appeared across the years 2015, 2019 and 2020"
   ]
  },
  {
   "cell_type": "code",
   "execution_count": 17,
   "metadata": {},
   "outputs": [
    {
     "data": {
      "text/html": [
       "<div>\n",
       "<style scoped>\n",
       "    .dataframe tbody tr th:only-of-type {\n",
       "        vertical-align: middle;\n",
       "    }\n",
       "\n",
       "    .dataframe tbody tr th {\n",
       "        vertical-align: top;\n",
       "    }\n",
       "\n",
       "    .dataframe thead th {\n",
       "        text-align: right;\n",
       "    }\n",
       "</style>\n",
       "<table border=\"1\" class=\"dataframe\">\n",
       "  <thead>\n",
       "    <tr style=\"text-align: right;\">\n",
       "      <th></th>\n",
       "      <th>SKU</th>\n",
       "      <th>Warehouse_Section</th>\n",
       "      <th>Origin</th>\n",
       "      <th>Order_No</th>\n",
       "      <th>Position_in_Order</th>\n",
       "      <th>Pick_Volume</th>\n",
       "      <th>Unit</th>\n",
       "      <th>Date</th>\n",
       "    </tr>\n",
       "  </thead>\n",
       "  <tbody>\n",
       "    <tr>\n",
       "      <th>2206404</th>\n",
       "      <td>202873</td>\n",
       "      <td>Manuell</td>\n",
       "      <td>48</td>\n",
       "      <td>01000022</td>\n",
       "      <td>1</td>\n",
       "      <td>100</td>\n",
       "      <td>Mt</td>\n",
       "      <td>2020-05-14 18:13:16</td>\n",
       "    </tr>\n",
       "    <tr>\n",
       "      <th>3677888</th>\n",
       "      <td>230333</td>\n",
       "      <td>SHL</td>\n",
       "      <td>48</td>\n",
       "      <td>01000022</td>\n",
       "      <td>2</td>\n",
       "      <td>4</td>\n",
       "      <td>Ro</td>\n",
       "      <td>2020-05-14 20:51:07</td>\n",
       "    </tr>\n",
       "    <tr>\n",
       "      <th>3681575</th>\n",
       "      <td>230344</td>\n",
       "      <td>AKL</td>\n",
       "      <td>48</td>\n",
       "      <td>01000022</td>\n",
       "      <td>3</td>\n",
       "      <td>400</td>\n",
       "      <td>St</td>\n",
       "      <td>2020-05-14 20:53:56</td>\n",
       "    </tr>\n",
       "    <tr>\n",
       "      <th>14993127</th>\n",
       "      <td>V65319</td>\n",
       "      <td>SHL</td>\n",
       "      <td>48</td>\n",
       "      <td>01000022</td>\n",
       "      <td>2</td>\n",
       "      <td>10</td>\n",
       "      <td>St</td>\n",
       "      <td>2019-05-22 13:59:51</td>\n",
       "    </tr>\n",
       "    <tr>\n",
       "      <th>27402014</th>\n",
       "      <td>168184</td>\n",
       "      <td>Kabellager</td>\n",
       "      <td>48</td>\n",
       "      <td>01000022</td>\n",
       "      <td>1</td>\n",
       "      <td>50</td>\n",
       "      <td>Mt</td>\n",
       "      <td>2015-04-16 19:22:01</td>\n",
       "    </tr>\n",
       "  </tbody>\n",
       "</table>\n",
       "</div>"
      ],
      "text/plain": [
       "             SKU Warehouse_Section  Origin  Order_No  Position_in_Order  \\\n",
       "2206404   202873           Manuell      48  01000022                  1   \n",
       "3677888   230333               SHL      48  01000022                  2   \n",
       "3681575   230344               AKL      48  01000022                  3   \n",
       "14993127  V65319               SHL      48  01000022                  2   \n",
       "27402014  168184        Kabellager      48  01000022                  1   \n",
       "\n",
       "          Pick_Volume Unit                Date  \n",
       "2206404           100   Mt 2020-05-14 18:13:16  \n",
       "3677888             4   Ro 2020-05-14 20:51:07  \n",
       "3681575           400   St 2020-05-14 20:53:56  \n",
       "14993127           10   St 2019-05-22 13:59:51  \n",
       "27402014           50   Mt 2015-04-16 19:22:01  "
      ]
     },
     "execution_count": 17,
     "metadata": {},
     "output_type": "execute_result"
    }
   ],
   "source": [
    "pick_data_transformed[pick_data_transformed[\"Order_No\"] == \"01000022\"]"
   ]
  },
  {
   "cell_type": "code",
   "execution_count": 18,
   "metadata": {},
   "outputs": [
    {
     "data": {
      "text/html": [
       "<div>\n",
       "<style scoped>\n",
       "    .dataframe tbody tr th:only-of-type {\n",
       "        vertical-align: middle;\n",
       "    }\n",
       "\n",
       "    .dataframe tbody tr th {\n",
       "        vertical-align: top;\n",
       "    }\n",
       "\n",
       "    .dataframe thead th {\n",
       "        text-align: right;\n",
       "    }\n",
       "</style>\n",
       "<table border=\"1\" class=\"dataframe\">\n",
       "  <thead>\n",
       "    <tr style=\"text-align: right;\">\n",
       "      <th></th>\n",
       "      <th>SKU</th>\n",
       "      <th>Warehouse_Section</th>\n",
       "      <th>Origin</th>\n",
       "      <th>Order_No</th>\n",
       "      <th>Position_in_Order</th>\n",
       "      <th>Pick_Volume</th>\n",
       "      <th>Unit</th>\n",
       "      <th>Date</th>\n",
       "    </tr>\n",
       "  </thead>\n",
       "  <tbody>\n",
       "    <tr>\n",
       "      <th>27364068</th>\n",
       "      <td>P55156</td>\n",
       "      <td>AKL</td>\n",
       "      <td>48</td>\n",
       "      <td>09928757</td>\n",
       "      <td>1</td>\n",
       "      <td>10</td>\n",
       "      <td>St</td>\n",
       "      <td>2015-04-13 17:48:22</td>\n",
       "    </tr>\n",
       "    <tr>\n",
       "      <th>27417948</th>\n",
       "      <td>222950</td>\n",
       "      <td>Manuell</td>\n",
       "      <td>48</td>\n",
       "      <td>09928757</td>\n",
       "      <td>2</td>\n",
       "      <td>4</td>\n",
       "      <td>Mt</td>\n",
       "      <td>2015-04-20 03:53:54</td>\n",
       "    </tr>\n",
       "    <tr>\n",
       "      <th>27417949</th>\n",
       "      <td>221254</td>\n",
       "      <td>Manuell</td>\n",
       "      <td>48</td>\n",
       "      <td>09928757</td>\n",
       "      <td>3</td>\n",
       "      <td>44</td>\n",
       "      <td>Mt</td>\n",
       "      <td>2015-04-20 03:53:54</td>\n",
       "    </tr>\n",
       "  </tbody>\n",
       "</table>\n",
       "</div>"
      ],
      "text/plain": [
       "             SKU Warehouse_Section  Origin  Order_No  Position_in_Order  \\\n",
       "27364068  P55156               AKL      48  09928757                  1   \n",
       "27417948  222950           Manuell      48  09928757                  2   \n",
       "27417949  221254           Manuell      48  09928757                  3   \n",
       "\n",
       "          Pick_Volume Unit                Date  \n",
       "27364068           10   St 2015-04-13 17:48:22  \n",
       "27417948            4   Mt 2015-04-20 03:53:54  \n",
       "27417949           44   Mt 2015-04-20 03:53:54  "
      ]
     },
     "execution_count": 18,
     "metadata": {},
     "output_type": "execute_result"
    }
   ],
   "source": [
    "pick_data_transformed[pick_data_transformed[\"Order_No\"] == \"09928757\"]"
   ]
  },
  {
   "cell_type": "markdown",
   "metadata": {},
   "source": [
    "Approach:\n",
    "\n",
    "Need to transform the Order Numbers and make them unique by adding special characters at the end in the format Order No + _v + version. Will be stored in a new variable called `Unique_Order_No`\n",
    "Ex: 01000022_v1\n",
    "\n",
    "Will split an `Order_No` into `Unique_Order_No` when the `Origin` changes across picks. Do not split orders based on time gaps if other attributes like `Position_in_Order`, `SKU` indicate a continuous order process. Will preserve the original `Position_in_Order` to maintain its logical sequence within a `Unique_Order_No`."
   ]
  },
  {
   "cell_type": "code",
   "execution_count": 22,
   "metadata": {},
   "outputs": [],
   "source": [
    "def generate_unique_order_no(df, time_gap_threshold, large_gap_threshold_months=2):\n",
    "    \"\"\"\n",
    "    This fn is to generate unique order no.s and the params are ...\n",
    "    \"\"\"\n",
    "    # Step 1: Sort the dataframe by Order_No and Date\n",
    "    df = df.sort_values(by=[\"Order_No\", \"Date\"]).reset_index(drop=True)\n",
    "    # Step 2: Precompute thresholds\n",
    "    large_gap_threshold_seconds = (\n",
    "        large_gap_threshold_months * 30.44 * 24 * 60 * 60\n",
    "    )  # Convert months to seconds\n",
    "    # Step 3: Calculate time differences using shift()\n",
    "    df[\"Time_Difference\"] = (df[\"Date\"] - df[\"Date\"].shift()).dt.total_seconds()\n",
    "    # Reset Time_Difference to NaN where Order_No changes\n",
    "    df[\"Time_Difference\"] = df[\"Time_Difference\"].where(\n",
    "        df[\"Order_No\"] == df[\"Order_No\"].shift(), other=None\n",
    "    )\n",
    "    # Step 4: Initialize an empty list to store the Unique_Order_No for each row\n",
    "    unique_order_no_list = pd.Series([None] * len(df), index=df.index)\n",
    "    # Step 5: Group by Order_No for processing\n",
    "    for order_no, group in df.groupby(\"Order_No\", sort=False):\n",
    "        # Initialize tracking variables\n",
    "        unique_order_id = 1\n",
    "        last_seen_rows = set()\n",
    "        seen_positions = set()\n",
    "        seen_skus = set()\n",
    "        previous_origin = None\n",
    "\n",
    "        for idx, (row_idx, row) in enumerate(group.iterrows()):\n",
    "            if idx == 0:\n",
    "                # First row always starts a new Unique_Order_No\n",
    "                unique_order_no_list[row_idx] = f\"{order_no}_v{unique_order_id}\"\n",
    "                last_seen_rows.add((row[\"Position_in_Order\"], row[\"SKU\"]))\n",
    "                seen_positions.add(row[\"Position_in_Order\"])\n",
    "                seen_skus.add(row[\"SKU\"])\n",
    "                previous_origin = row[\"Origin\"]\n",
    "            else:\n",
    "                # Fetch precomputed time gap\n",
    "                time_gap = row[\"Time_Difference\"]\n",
    "                origin_changed = row[\"Origin\"] != previous_origin\n",
    "                large_gap = (\n",
    "                    time_gap > large_gap_threshold_seconds\n",
    "                    if not pd.isna(time_gap)\n",
    "                    else False\n",
    "                )\n",
    "                long_gap = (\n",
    "                    time_gap >= time_gap_threshold if not pd.isna(time_gap) else False\n",
    "                )\n",
    "\n",
    "                # Check SKU/Position logic\n",
    "                pair_in_last_seen = (\n",
    "                    row[\"Position_in_Order\"],\n",
    "                    row[\"SKU\"],\n",
    "                ) in last_seen_rows\n",
    "                position_or_sku_in_last_seen = (\n",
    "                    row[\"Position_in_Order\"] in seen_positions\n",
    "                    or row[\"SKU\"] in seen_skus\n",
    "                )\n",
    "\n",
    "                # Logic to trigger a split\n",
    "                if (\n",
    "                    origin_changed\n",
    "                    or large_gap\n",
    "                    or (\n",
    "                        long_gap\n",
    "                        and not pair_in_last_seen\n",
    "                        and position_or_sku_in_last_seen\n",
    "                    )\n",
    "                ):\n",
    "                    unique_order_id += 1\n",
    "                    last_seen_rows = set()\n",
    "                    seen_positions = set()\n",
    "                    seen_skus = set()\n",
    "\n",
    "                # Update Unique_Order_No and tracking variables\n",
    "                unique_order_no_list[row_idx] = f\"{order_no}_v{unique_order_id}\"\n",
    "                last_seen_rows.add((row[\"Position_in_Order\"], row[\"SKU\"]))\n",
    "                seen_positions.add(row[\"Position_in_Order\"])\n",
    "                seen_skus.add(row[\"SKU\"])\n",
    "                previous_origin = row[\"Origin\"]\n",
    "\n",
    "    # Step 6: Assign the generated Unique_Order_No values to the DataFrame\n",
    "    df[\"Unique_Order_No\"] = unique_order_no_list\n",
    "\n",
    "    return df"
   ]
  },
  {
   "cell_type": "code",
   "execution_count": 23,
   "metadata": {},
   "outputs": [
    {
     "data": {
      "text/html": [
       "<div>\n",
       "<style scoped>\n",
       "    .dataframe tbody tr th:only-of-type {\n",
       "        vertical-align: middle;\n",
       "    }\n",
       "\n",
       "    .dataframe tbody tr th {\n",
       "        vertical-align: top;\n",
       "    }\n",
       "\n",
       "    .dataframe thead th {\n",
       "        text-align: right;\n",
       "    }\n",
       "</style>\n",
       "<table border=\"1\" class=\"dataframe\">\n",
       "  <thead>\n",
       "    <tr style=\"text-align: right;\">\n",
       "      <th></th>\n",
       "      <th>SKU</th>\n",
       "      <th>Warehouse_Section</th>\n",
       "      <th>Origin</th>\n",
       "      <th>Order_No</th>\n",
       "      <th>Position_in_Order</th>\n",
       "      <th>Pick_Volume</th>\n",
       "      <th>Unit</th>\n",
       "      <th>Date</th>\n",
       "      <th>Time_Difference</th>\n",
       "      <th>Unique_Order_No</th>\n",
       "    </tr>\n",
       "  </thead>\n",
       "  <tbody>\n",
       "    <tr>\n",
       "      <th>0</th>\n",
       "      <td>F80856</td>\n",
       "      <td>SHL</td>\n",
       "      <td>48</td>\n",
       "      <td>01000000</td>\n",
       "      <td>8</td>\n",
       "      <td>1</td>\n",
       "      <td>St</td>\n",
       "      <td>2020-05-14 15:55:18</td>\n",
       "      <td>NaN</td>\n",
       "      <td>01000000_v1</td>\n",
       "    </tr>\n",
       "    <tr>\n",
       "      <th>1</th>\n",
       "      <td>Z71504</td>\n",
       "      <td>SHL</td>\n",
       "      <td>48</td>\n",
       "      <td>01000000</td>\n",
       "      <td>9</td>\n",
       "      <td>1</td>\n",
       "      <td>St</td>\n",
       "      <td>2020-05-14 15:55:18</td>\n",
       "      <td>0.0</td>\n",
       "      <td>01000000_v1</td>\n",
       "    </tr>\n",
       "    <tr>\n",
       "      <th>2</th>\n",
       "      <td>C06077</td>\n",
       "      <td>SHL</td>\n",
       "      <td>48</td>\n",
       "      <td>01000000</td>\n",
       "      <td>1</td>\n",
       "      <td>1</td>\n",
       "      <td>St</td>\n",
       "      <td>2020-05-14 15:55:19</td>\n",
       "      <td>1.0</td>\n",
       "      <td>01000000_v1</td>\n",
       "    </tr>\n",
       "    <tr>\n",
       "      <th>3</th>\n",
       "      <td>E20007</td>\n",
       "      <td>SHL</td>\n",
       "      <td>48</td>\n",
       "      <td>01000000</td>\n",
       "      <td>3</td>\n",
       "      <td>1</td>\n",
       "      <td>St</td>\n",
       "      <td>2020-05-14 15:55:19</td>\n",
       "      <td>0.0</td>\n",
       "      <td>01000000_v1</td>\n",
       "    </tr>\n",
       "    <tr>\n",
       "      <th>4</th>\n",
       "      <td>E20008</td>\n",
       "      <td>SHL</td>\n",
       "      <td>48</td>\n",
       "      <td>01000000</td>\n",
       "      <td>2</td>\n",
       "      <td>1</td>\n",
       "      <td>St</td>\n",
       "      <td>2020-05-14 15:55:19</td>\n",
       "      <td>0.0</td>\n",
       "      <td>01000000_v1</td>\n",
       "    </tr>\n",
       "  </tbody>\n",
       "</table>\n",
       "</div>"
      ],
      "text/plain": [
       "      SKU Warehouse_Section  Origin  Order_No  Position_in_Order  Pick_Volume  \\\n",
       "0  F80856               SHL      48  01000000                  8            1   \n",
       "1  Z71504               SHL      48  01000000                  9            1   \n",
       "2  C06077               SHL      48  01000000                  1            1   \n",
       "3  E20007               SHL      48  01000000                  3            1   \n",
       "4  E20008               SHL      48  01000000                  2            1   \n",
       "\n",
       "  Unit                Date  Time_Difference Unique_Order_No  \n",
       "0   St 2020-05-14 15:55:18              NaN     01000000_v1  \n",
       "1   St 2020-05-14 15:55:18              0.0     01000000_v1  \n",
       "2   St 2020-05-14 15:55:19              1.0     01000000_v1  \n",
       "3   St 2020-05-14 15:55:19              0.0     01000000_v1  \n",
       "4   St 2020-05-14 15:55:19              0.0     01000000_v1  "
      ]
     },
     "execution_count": 23,
     "metadata": {},
     "output_type": "execute_result"
    }
   ],
   "source": [
    "pick_data_transformed = generate_unique_order_no(pick_data_transformed, 432000, 2)\n",
    "pick_data_transformed.head()"
   ]
  },
  {
   "cell_type": "code",
   "execution_count": 24,
   "metadata": {},
   "outputs": [
    {
     "name": "stdout",
     "output_type": "stream",
     "text": [
      "SKU                     97317\n",
      "Warehouse_Section           5\n",
      "Origin                      2\n",
      "Order_No              6928668\n",
      "Position_in_Order         340\n",
      "Pick_Volume              1690\n",
      "Unit                        9\n",
      "Date                 22874561\n",
      "Time_Difference       2287883\n",
      "Unique_Order_No       9371179\n",
      "dtype: int64\n"
     ]
    }
   ],
   "source": [
    "pick_data_transformed[[\"Unique_Order_No\"]] = pick_data_transformed[[\"Unique_Order_No\"]].astype(\"string\")\n",
    "print(pick_data_transformed.nunique())"
   ]
  },
  {
   "cell_type": "markdown",
   "metadata": {},
   "source": [
    "What we can see is that the number of distinct Order numbers has significantly increased from around 7 million to 9.4 million"
   ]
  },
  {
   "cell_type": "code",
   "execution_count": 25,
   "metadata": {},
   "outputs": [
    {
     "data": {
      "text/html": [
       "<div>\n",
       "<style scoped>\n",
       "    .dataframe tbody tr th:only-of-type {\n",
       "        vertical-align: middle;\n",
       "    }\n",
       "\n",
       "    .dataframe tbody tr th {\n",
       "        vertical-align: top;\n",
       "    }\n",
       "\n",
       "    .dataframe thead th {\n",
       "        text-align: right;\n",
       "    }\n",
       "</style>\n",
       "<table border=\"1\" class=\"dataframe\">\n",
       "  <thead>\n",
       "    <tr style=\"text-align: right;\">\n",
       "      <th></th>\n",
       "      <th>SKU</th>\n",
       "      <th>Warehouse_Section</th>\n",
       "      <th>Origin</th>\n",
       "      <th>Order_No</th>\n",
       "      <th>Position_in_Order</th>\n",
       "      <th>Pick_Volume</th>\n",
       "      <th>Unit</th>\n",
       "      <th>Date</th>\n",
       "      <th>Time_Difference</th>\n",
       "      <th>Unique_Order_No</th>\n",
       "    </tr>\n",
       "  </thead>\n",
       "  <tbody>\n",
       "    <tr>\n",
       "      <th>42187</th>\n",
       "      <td>302001</td>\n",
       "      <td>AKL</td>\n",
       "      <td>46</td>\n",
       "      <td>01007725</td>\n",
       "      <td>8</td>\n",
       "      <td>1</td>\n",
       "      <td>St</td>\n",
       "      <td>2015-04-20 06:04:08</td>\n",
       "      <td>NaN</td>\n",
       "      <td>01007725_v1</td>\n",
       "    </tr>\n",
       "    <tr>\n",
       "      <th>42188</th>\n",
       "      <td>302001</td>\n",
       "      <td>AKL</td>\n",
       "      <td>46</td>\n",
       "      <td>01007725</td>\n",
       "      <td>8</td>\n",
       "      <td>1</td>\n",
       "      <td>St</td>\n",
       "      <td>2015-04-20 06:16:28</td>\n",
       "      <td>740.0</td>\n",
       "      <td>01007725_v1</td>\n",
       "    </tr>\n",
       "    <tr>\n",
       "      <th>42189</th>\n",
       "      <td>O68047</td>\n",
       "      <td>HRL</td>\n",
       "      <td>46</td>\n",
       "      <td>01007725</td>\n",
       "      <td>7</td>\n",
       "      <td>0</td>\n",
       "      <td>St</td>\n",
       "      <td>2015-04-20 07:27:38</td>\n",
       "      <td>4270.0</td>\n",
       "      <td>01007725_v1</td>\n",
       "    </tr>\n",
       "    <tr>\n",
       "      <th>42190</th>\n",
       "      <td>101621</td>\n",
       "      <td>HRL</td>\n",
       "      <td>46</td>\n",
       "      <td>01007725</td>\n",
       "      <td>6</td>\n",
       "      <td>200</td>\n",
       "      <td>Mt</td>\n",
       "      <td>2015-04-20 07:32:59</td>\n",
       "      <td>321.0</td>\n",
       "      <td>01007725_v1</td>\n",
       "    </tr>\n",
       "    <tr>\n",
       "      <th>42191</th>\n",
       "      <td>453035</td>\n",
       "      <td>HRL</td>\n",
       "      <td>46</td>\n",
       "      <td>01007725</td>\n",
       "      <td>2</td>\n",
       "      <td>2</td>\n",
       "      <td>St</td>\n",
       "      <td>2015-04-20 07:33:34</td>\n",
       "      <td>35.0</td>\n",
       "      <td>01007725_v1</td>\n",
       "    </tr>\n",
       "    <tr>\n",
       "      <th>42192</th>\n",
       "      <td>302001</td>\n",
       "      <td>HRL</td>\n",
       "      <td>46</td>\n",
       "      <td>01007725</td>\n",
       "      <td>8</td>\n",
       "      <td>3</td>\n",
       "      <td>St</td>\n",
       "      <td>2015-04-20 07:34:28</td>\n",
       "      <td>54.0</td>\n",
       "      <td>01007725_v1</td>\n",
       "    </tr>\n",
       "    <tr>\n",
       "      <th>42193</th>\n",
       "      <td>G04600</td>\n",
       "      <td>HRL</td>\n",
       "      <td>46</td>\n",
       "      <td>01007725</td>\n",
       "      <td>3</td>\n",
       "      <td>10</td>\n",
       "      <td>St</td>\n",
       "      <td>2015-04-20 07:37:03</td>\n",
       "      <td>155.0</td>\n",
       "      <td>01007725_v1</td>\n",
       "    </tr>\n",
       "    <tr>\n",
       "      <th>42194</th>\n",
       "      <td>392655</td>\n",
       "      <td>HRL</td>\n",
       "      <td>46</td>\n",
       "      <td>01007725</td>\n",
       "      <td>1</td>\n",
       "      <td>2</td>\n",
       "      <td>St</td>\n",
       "      <td>2015-04-20 07:42:52</td>\n",
       "      <td>349.0</td>\n",
       "      <td>01007725_v1</td>\n",
       "    </tr>\n",
       "    <tr>\n",
       "      <th>42195</th>\n",
       "      <td>161102</td>\n",
       "      <td>HRL</td>\n",
       "      <td>46</td>\n",
       "      <td>01007725</td>\n",
       "      <td>5</td>\n",
       "      <td>1000</td>\n",
       "      <td>Mt</td>\n",
       "      <td>2015-04-20 08:01:58</td>\n",
       "      <td>1146.0</td>\n",
       "      <td>01007725_v1</td>\n",
       "    </tr>\n",
       "    <tr>\n",
       "      <th>42196</th>\n",
       "      <td>O68047</td>\n",
       "      <td>HRL</td>\n",
       "      <td>46</td>\n",
       "      <td>01007725</td>\n",
       "      <td>7</td>\n",
       "      <td>1</td>\n",
       "      <td>St</td>\n",
       "      <td>2015-04-27 06:09:19</td>\n",
       "      <td>598041.0</td>\n",
       "      <td>01007725_v1</td>\n",
       "    </tr>\n",
       "    <tr>\n",
       "      <th>42197</th>\n",
       "      <td>376939</td>\n",
       "      <td>SHL</td>\n",
       "      <td>48</td>\n",
       "      <td>01007725</td>\n",
       "      <td>2</td>\n",
       "      <td>20</td>\n",
       "      <td>St</td>\n",
       "      <td>2019-05-24 05:21:08</td>\n",
       "      <td>128560309.0</td>\n",
       "      <td>01007725_v2</td>\n",
       "    </tr>\n",
       "    <tr>\n",
       "      <th>42198</th>\n",
       "      <td>189941</td>\n",
       "      <td>Kabellager</td>\n",
       "      <td>48</td>\n",
       "      <td>01007725</td>\n",
       "      <td>1</td>\n",
       "      <td>38</td>\n",
       "      <td>Mt</td>\n",
       "      <td>2019-05-24 07:28:08</td>\n",
       "      <td>7620.0</td>\n",
       "      <td>01007725_v2</td>\n",
       "    </tr>\n",
       "  </tbody>\n",
       "</table>\n",
       "</div>"
      ],
      "text/plain": [
       "          SKU Warehouse_Section  Origin  Order_No  Position_in_Order  \\\n",
       "42187  302001               AKL      46  01007725                  8   \n",
       "42188  302001               AKL      46  01007725                  8   \n",
       "42189  O68047               HRL      46  01007725                  7   \n",
       "42190  101621               HRL      46  01007725                  6   \n",
       "42191  453035               HRL      46  01007725                  2   \n",
       "42192  302001               HRL      46  01007725                  8   \n",
       "42193  G04600               HRL      46  01007725                  3   \n",
       "42194  392655               HRL      46  01007725                  1   \n",
       "42195  161102               HRL      46  01007725                  5   \n",
       "42196  O68047               HRL      46  01007725                  7   \n",
       "42197  376939               SHL      48  01007725                  2   \n",
       "42198  189941        Kabellager      48  01007725                  1   \n",
       "\n",
       "       Pick_Volume Unit                Date  Time_Difference Unique_Order_No  \n",
       "42187            1   St 2015-04-20 06:04:08              NaN     01007725_v1  \n",
       "42188            1   St 2015-04-20 06:16:28            740.0     01007725_v1  \n",
       "42189            0   St 2015-04-20 07:27:38           4270.0     01007725_v1  \n",
       "42190          200   Mt 2015-04-20 07:32:59            321.0     01007725_v1  \n",
       "42191            2   St 2015-04-20 07:33:34             35.0     01007725_v1  \n",
       "42192            3   St 2015-04-20 07:34:28             54.0     01007725_v1  \n",
       "42193           10   St 2015-04-20 07:37:03            155.0     01007725_v1  \n",
       "42194            2   St 2015-04-20 07:42:52            349.0     01007725_v1  \n",
       "42195         1000   Mt 2015-04-20 08:01:58           1146.0     01007725_v1  \n",
       "42196            1   St 2015-04-27 06:09:19         598041.0     01007725_v1  \n",
       "42197           20   St 2019-05-24 05:21:08      128560309.0     01007725_v2  \n",
       "42198           38   Mt 2019-05-24 07:28:08           7620.0     01007725_v2  "
      ]
     },
     "execution_count": 25,
     "metadata": {},
     "output_type": "execute_result"
    }
   ],
   "source": [
    "pick_data_transformed[pick_data_transformed['Order_No'] == '01007725']"
   ]
  },
  {
   "cell_type": "markdown",
   "metadata": {},
   "source": [
    "From this example, we can see that `Position_in_Order` 4 is missing and there are a few orders like this that needs to be fixed"
   ]
  },
  {
   "cell_type": "markdown",
   "metadata": {},
   "source": [
    "So we need to reorder `Position_in_Order` correctly"
   ]
  },
  {
   "cell_type": "code",
   "execution_count": 26,
   "metadata": {},
   "outputs": [],
   "source": [
    "# Sort by Unique_Order_No and Position_in_Order\n",
    "pick_data_transformed = pick_data_transformed.sort_values(\n",
    "    by=[\"Unique_Order_No\", \"Position_in_Order\"]\n",
    ")\n",
    "\n",
    "# Renumber Position_in_Order efficiently\n",
    "pick_data_transformed[\"Position_in_Order_Updated_Rank\"] = (\n",
    "    pick_data_transformed.groupby(\"Unique_Order_No\")[\"Position_in_Order\"]\n",
    "    .rank(method=\"dense\")\n",
    "    .astype(int)\n",
    ")\n",
    "\n",
    "pick_data_transformed = pick_data_transformed.sort_values(\n",
    "    by=[\"Unique_Order_No\", \"Date\"]\n",
    ").reset_index(drop=True)"
   ]
  },
  {
   "cell_type": "code",
   "execution_count": 28,
   "metadata": {},
   "outputs": [
    {
     "data": {
      "text/html": [
       "<div>\n",
       "<style scoped>\n",
       "    .dataframe tbody tr th:only-of-type {\n",
       "        vertical-align: middle;\n",
       "    }\n",
       "\n",
       "    .dataframe tbody tr th {\n",
       "        vertical-align: top;\n",
       "    }\n",
       "\n",
       "    .dataframe thead th {\n",
       "        text-align: right;\n",
       "    }\n",
       "</style>\n",
       "<table border=\"1\" class=\"dataframe\">\n",
       "  <thead>\n",
       "    <tr style=\"text-align: right;\">\n",
       "      <th></th>\n",
       "      <th>SKU</th>\n",
       "      <th>Warehouse_Section</th>\n",
       "      <th>Origin</th>\n",
       "      <th>Order_No</th>\n",
       "      <th>Position_in_Order</th>\n",
       "      <th>Pick_Volume</th>\n",
       "      <th>Unit</th>\n",
       "      <th>Date</th>\n",
       "      <th>Time_Difference</th>\n",
       "      <th>Unique_Order_No</th>\n",
       "      <th>Position_in_Order_Updated_Rank</th>\n",
       "    </tr>\n",
       "  </thead>\n",
       "  <tbody>\n",
       "    <tr>\n",
       "      <th>42187</th>\n",
       "      <td>302001</td>\n",
       "      <td>AKL</td>\n",
       "      <td>46</td>\n",
       "      <td>01007725</td>\n",
       "      <td>8</td>\n",
       "      <td>1</td>\n",
       "      <td>St</td>\n",
       "      <td>2015-04-20 06:04:08</td>\n",
       "      <td>NaN</td>\n",
       "      <td>01007725_v1</td>\n",
       "      <td>7</td>\n",
       "    </tr>\n",
       "    <tr>\n",
       "      <th>42188</th>\n",
       "      <td>302001</td>\n",
       "      <td>AKL</td>\n",
       "      <td>46</td>\n",
       "      <td>01007725</td>\n",
       "      <td>8</td>\n",
       "      <td>1</td>\n",
       "      <td>St</td>\n",
       "      <td>2015-04-20 06:16:28</td>\n",
       "      <td>740.0</td>\n",
       "      <td>01007725_v1</td>\n",
       "      <td>7</td>\n",
       "    </tr>\n",
       "    <tr>\n",
       "      <th>42189</th>\n",
       "      <td>O68047</td>\n",
       "      <td>HRL</td>\n",
       "      <td>46</td>\n",
       "      <td>01007725</td>\n",
       "      <td>7</td>\n",
       "      <td>0</td>\n",
       "      <td>St</td>\n",
       "      <td>2015-04-20 07:27:38</td>\n",
       "      <td>4270.0</td>\n",
       "      <td>01007725_v1</td>\n",
       "      <td>6</td>\n",
       "    </tr>\n",
       "    <tr>\n",
       "      <th>42190</th>\n",
       "      <td>101621</td>\n",
       "      <td>HRL</td>\n",
       "      <td>46</td>\n",
       "      <td>01007725</td>\n",
       "      <td>6</td>\n",
       "      <td>200</td>\n",
       "      <td>Mt</td>\n",
       "      <td>2015-04-20 07:32:59</td>\n",
       "      <td>321.0</td>\n",
       "      <td>01007725_v1</td>\n",
       "      <td>5</td>\n",
       "    </tr>\n",
       "    <tr>\n",
       "      <th>42191</th>\n",
       "      <td>453035</td>\n",
       "      <td>HRL</td>\n",
       "      <td>46</td>\n",
       "      <td>01007725</td>\n",
       "      <td>2</td>\n",
       "      <td>2</td>\n",
       "      <td>St</td>\n",
       "      <td>2015-04-20 07:33:34</td>\n",
       "      <td>35.0</td>\n",
       "      <td>01007725_v1</td>\n",
       "      <td>2</td>\n",
       "    </tr>\n",
       "    <tr>\n",
       "      <th>42192</th>\n",
       "      <td>302001</td>\n",
       "      <td>HRL</td>\n",
       "      <td>46</td>\n",
       "      <td>01007725</td>\n",
       "      <td>8</td>\n",
       "      <td>3</td>\n",
       "      <td>St</td>\n",
       "      <td>2015-04-20 07:34:28</td>\n",
       "      <td>54.0</td>\n",
       "      <td>01007725_v1</td>\n",
       "      <td>7</td>\n",
       "    </tr>\n",
       "    <tr>\n",
       "      <th>42193</th>\n",
       "      <td>G04600</td>\n",
       "      <td>HRL</td>\n",
       "      <td>46</td>\n",
       "      <td>01007725</td>\n",
       "      <td>3</td>\n",
       "      <td>10</td>\n",
       "      <td>St</td>\n",
       "      <td>2015-04-20 07:37:03</td>\n",
       "      <td>155.0</td>\n",
       "      <td>01007725_v1</td>\n",
       "      <td>3</td>\n",
       "    </tr>\n",
       "    <tr>\n",
       "      <th>42194</th>\n",
       "      <td>392655</td>\n",
       "      <td>HRL</td>\n",
       "      <td>46</td>\n",
       "      <td>01007725</td>\n",
       "      <td>1</td>\n",
       "      <td>2</td>\n",
       "      <td>St</td>\n",
       "      <td>2015-04-20 07:42:52</td>\n",
       "      <td>349.0</td>\n",
       "      <td>01007725_v1</td>\n",
       "      <td>1</td>\n",
       "    </tr>\n",
       "    <tr>\n",
       "      <th>42195</th>\n",
       "      <td>161102</td>\n",
       "      <td>HRL</td>\n",
       "      <td>46</td>\n",
       "      <td>01007725</td>\n",
       "      <td>5</td>\n",
       "      <td>1000</td>\n",
       "      <td>Mt</td>\n",
       "      <td>2015-04-20 08:01:58</td>\n",
       "      <td>1146.0</td>\n",
       "      <td>01007725_v1</td>\n",
       "      <td>4</td>\n",
       "    </tr>\n",
       "    <tr>\n",
       "      <th>42196</th>\n",
       "      <td>O68047</td>\n",
       "      <td>HRL</td>\n",
       "      <td>46</td>\n",
       "      <td>01007725</td>\n",
       "      <td>7</td>\n",
       "      <td>1</td>\n",
       "      <td>St</td>\n",
       "      <td>2015-04-27 06:09:19</td>\n",
       "      <td>598041.0</td>\n",
       "      <td>01007725_v1</td>\n",
       "      <td>6</td>\n",
       "    </tr>\n",
       "    <tr>\n",
       "      <th>42197</th>\n",
       "      <td>376939</td>\n",
       "      <td>SHL</td>\n",
       "      <td>48</td>\n",
       "      <td>01007725</td>\n",
       "      <td>2</td>\n",
       "      <td>20</td>\n",
       "      <td>St</td>\n",
       "      <td>2019-05-24 05:21:08</td>\n",
       "      <td>128560309.0</td>\n",
       "      <td>01007725_v2</td>\n",
       "      <td>2</td>\n",
       "    </tr>\n",
       "    <tr>\n",
       "      <th>42198</th>\n",
       "      <td>189941</td>\n",
       "      <td>Kabellager</td>\n",
       "      <td>48</td>\n",
       "      <td>01007725</td>\n",
       "      <td>1</td>\n",
       "      <td>38</td>\n",
       "      <td>Mt</td>\n",
       "      <td>2019-05-24 07:28:08</td>\n",
       "      <td>7620.0</td>\n",
       "      <td>01007725_v2</td>\n",
       "      <td>1</td>\n",
       "    </tr>\n",
       "  </tbody>\n",
       "</table>\n",
       "</div>"
      ],
      "text/plain": [
       "          SKU Warehouse_Section  Origin  Order_No  Position_in_Order  \\\n",
       "42187  302001               AKL      46  01007725                  8   \n",
       "42188  302001               AKL      46  01007725                  8   \n",
       "42189  O68047               HRL      46  01007725                  7   \n",
       "42190  101621               HRL      46  01007725                  6   \n",
       "42191  453035               HRL      46  01007725                  2   \n",
       "42192  302001               HRL      46  01007725                  8   \n",
       "42193  G04600               HRL      46  01007725                  3   \n",
       "42194  392655               HRL      46  01007725                  1   \n",
       "42195  161102               HRL      46  01007725                  5   \n",
       "42196  O68047               HRL      46  01007725                  7   \n",
       "42197  376939               SHL      48  01007725                  2   \n",
       "42198  189941        Kabellager      48  01007725                  1   \n",
       "\n",
       "       Pick_Volume Unit                Date  Time_Difference Unique_Order_No  \\\n",
       "42187            1   St 2015-04-20 06:04:08              NaN     01007725_v1   \n",
       "42188            1   St 2015-04-20 06:16:28            740.0     01007725_v1   \n",
       "42189            0   St 2015-04-20 07:27:38           4270.0     01007725_v1   \n",
       "42190          200   Mt 2015-04-20 07:32:59            321.0     01007725_v1   \n",
       "42191            2   St 2015-04-20 07:33:34             35.0     01007725_v1   \n",
       "42192            3   St 2015-04-20 07:34:28             54.0     01007725_v1   \n",
       "42193           10   St 2015-04-20 07:37:03            155.0     01007725_v1   \n",
       "42194            2   St 2015-04-20 07:42:52            349.0     01007725_v1   \n",
       "42195         1000   Mt 2015-04-20 08:01:58           1146.0     01007725_v1   \n",
       "42196            1   St 2015-04-27 06:09:19         598041.0     01007725_v1   \n",
       "42197           20   St 2019-05-24 05:21:08      128560309.0     01007725_v2   \n",
       "42198           38   Mt 2019-05-24 07:28:08           7620.0     01007725_v2   \n",
       "\n",
       "       Position_in_Order_Updated_Rank  \n",
       "42187                               7  \n",
       "42188                               7  \n",
       "42189                               6  \n",
       "42190                               5  \n",
       "42191                               2  \n",
       "42192                               7  \n",
       "42193                               3  \n",
       "42194                               1  \n",
       "42195                               4  \n",
       "42196                               6  \n",
       "42197                               2  \n",
       "42198                               1  "
      ]
     },
     "execution_count": 28,
     "metadata": {},
     "output_type": "execute_result"
    }
   ],
   "source": [
    "pick_data_transformed[pick_data_transformed['Order_No'] == '01007725']"
   ]
  },
  {
   "cell_type": "markdown",
   "metadata": {},
   "source": [
    "### Analyzing 0 Pick_Volume"
   ]
  },
  {
   "cell_type": "code",
   "execution_count": null,
   "metadata": {},
   "outputs": [],
   "source": [
    "# Step 1: Create a flag for rows with Pick_Vol = 0 and Pick_Vol > 0\n",
    "pick_data_transformed[\"Pick_Vol_Zero_Flag\"] = pick_data_transformed[\"Pick_Volume\"] == 0\n",
    "pick_data_transformed[\"Pick_Vol_Positive_Flag\"] = pick_data_transformed[\"Pick_Volume\"] > 0\n",
    "\n",
    "# Step 2: Group by Unique_Order_No, SKU, and Position_in_Order\n",
    "grouped = pick_data_transformed.groupby([\"Unique_Order_No\", \"SKU\", \"Position_in_Order\"])\n",
    "\n",
    "# Step 3: Check conditions within each group\n",
    "matching_orders = grouped.agg(\n",
    "    {\n",
    "        \"Pick_Vol_Zero_Flag\": \"any\",  # Check if Pick_Vol = 0 exists\n",
    "        \"Pick_Vol_Positive_Flag\": \"any\",  # Check if Pick_Vol > 0 exists\n",
    "    }\n",
    ").reset_index()\n",
    "\n",
    "# Step 4: Filter groups that meet the criteria\n",
    "matching_orders[\"Has_Zero_and_Positive_Pick_Vol\"] = (\n",
    "    matching_orders[\"Pick_Vol_Zero_Flag\"] & matching_orders[\"Pick_Vol_Positive_Flag\"]\n",
    ")\n",
    "matching_orders[\"Has_Zero_but_No_Positive_Pick_Vol\"] = (\n",
    "    matching_orders[\"Pick_Vol_Zero_Flag\"] & ~matching_orders[\"Pick_Vol_Positive_Flag\"]\n",
    ")\n",
    "\n",
    "# Step 5: Get the count of Unique_Order_No that meet the criteria and the \n",
    "# count of the ones that don't\n",
    "orders_with_zero_and_positive = matching_orders[\n",
    "    matching_orders[\"Has_Zero_and_Positive_Pick_Vol\"]\n",
    "][\n",
    "    \"Unique_Order_No\"\n",
    "].unique()  # 145,829\n",
    "problematic_orders = matching_orders[\n",
    "    matching_orders[\"Has_Zero_but_No_Positive_Pick_Vol\"]\n",
    "][\n",
    "    \"Unique_Order_No\"\n",
    "].unique()  # 2215\n",
    "overlap_orders = set(orders_with_zero_and_positive).intersection(\n",
    "    problematic_orders\n",
    ")  # 76 Unique Orders come under both categories\n",
    "\n",
    "# Analyze the strictly problematic orders\n",
    "strictly_problematic_orders = list(set(problematic_orders) - overlap_orders)\n",
    "\n",
    "# Filter all rows for strictly problematic orders\n",
    "strictly_problematic_orders_df = pick_data_transformed[\n",
    "    pick_data_transformed[\"Unique_Order_No\"].isin(strictly_problematic_orders)\n",
    "]"
   ]
  },
  {
   "cell_type": "markdown",
   "metadata": {},
   "source": [
    "### Analyzing Negative Pick_Volume"
   ]
  },
  {
   "cell_type": "code",
   "execution_count": 31,
   "metadata": {},
   "outputs": [
    {
     "data": {
      "text/html": [
       "<div>\n",
       "<style scoped>\n",
       "    .dataframe tbody tr th:only-of-type {\n",
       "        vertical-align: middle;\n",
       "    }\n",
       "\n",
       "    .dataframe tbody tr th {\n",
       "        vertical-align: top;\n",
       "    }\n",
       "\n",
       "    .dataframe thead th {\n",
       "        text-align: right;\n",
       "    }\n",
       "</style>\n",
       "<table border=\"1\" class=\"dataframe\">\n",
       "  <thead>\n",
       "    <tr style=\"text-align: right;\">\n",
       "      <th></th>\n",
       "      <th>SKU</th>\n",
       "      <th>Warehouse_Section</th>\n",
       "      <th>Origin</th>\n",
       "      <th>Order_No</th>\n",
       "      <th>Position_in_Order</th>\n",
       "      <th>Pick_Volume</th>\n",
       "      <th>Unit</th>\n",
       "      <th>Date</th>\n",
       "      <th>Time_Difference</th>\n",
       "      <th>Unique_Order_No</th>\n",
       "      <th>Position_in_Order_Updated_Rank</th>\n",
       "    </tr>\n",
       "  </thead>\n",
       "  <tbody>\n",
       "    <tr>\n",
       "      <th>2597503</th>\n",
       "      <td>R12006</td>\n",
       "      <td>SHL</td>\n",
       "      <td>48</td>\n",
       "      <td>01670127</td>\n",
       "      <td>4</td>\n",
       "      <td>-3</td>\n",
       "      <td>St</td>\n",
       "      <td>2015-09-04 11:32:14</td>\n",
       "      <td>0.0</td>\n",
       "      <td>01670127_v1</td>\n",
       "      <td>2</td>\n",
       "    </tr>\n",
       "    <tr>\n",
       "      <th>2605596</th>\n",
       "      <td>294723</td>\n",
       "      <td>SHL</td>\n",
       "      <td>48</td>\n",
       "      <td>01672819</td>\n",
       "      <td>6</td>\n",
       "      <td>-1</td>\n",
       "      <td>St</td>\n",
       "      <td>2015-09-04 13:06:53</td>\n",
       "      <td>0.0</td>\n",
       "      <td>01672819_v1</td>\n",
       "      <td>4</td>\n",
       "    </tr>\n",
       "    <tr>\n",
       "      <th>2811329</th>\n",
       "      <td>234142</td>\n",
       "      <td>SHL</td>\n",
       "      <td>48</td>\n",
       "      <td>01723719</td>\n",
       "      <td>9</td>\n",
       "      <td>-25</td>\n",
       "      <td>St</td>\n",
       "      <td>2015-09-15 16:32:15</td>\n",
       "      <td>0.0</td>\n",
       "      <td>01723719_v1</td>\n",
       "      <td>7</td>\n",
       "    </tr>\n",
       "    <tr>\n",
       "      <th>2829393</th>\n",
       "      <td>206454</td>\n",
       "      <td>SHL</td>\n",
       "      <td>48</td>\n",
       "      <td>01728544</td>\n",
       "      <td>1</td>\n",
       "      <td>-10</td>\n",
       "      <td>St</td>\n",
       "      <td>2015-09-16 14:35:49</td>\n",
       "      <td>0.0</td>\n",
       "      <td>01728544_v1</td>\n",
       "      <td>1</td>\n",
       "    </tr>\n",
       "    <tr>\n",
       "      <th>2863654</th>\n",
       "      <td>R20556</td>\n",
       "      <td>SHL</td>\n",
       "      <td>48</td>\n",
       "      <td>01737252</td>\n",
       "      <td>6</td>\n",
       "      <td>-1</td>\n",
       "      <td>St</td>\n",
       "      <td>2015-09-17 13:14:25</td>\n",
       "      <td>0.0</td>\n",
       "      <td>01737252_v1</td>\n",
       "      <td>6</td>\n",
       "    </tr>\n",
       "  </tbody>\n",
       "</table>\n",
       "</div>"
      ],
      "text/plain": [
       "            SKU Warehouse_Section  Origin  Order_No  Position_in_Order  \\\n",
       "2597503  R12006               SHL      48  01670127                  4   \n",
       "2605596  294723               SHL      48  01672819                  6   \n",
       "2811329  234142               SHL      48  01723719                  9   \n",
       "2829393  206454               SHL      48  01728544                  1   \n",
       "2863654  R20556               SHL      48  01737252                  6   \n",
       "\n",
       "         Pick_Volume Unit                Date  Time_Difference  \\\n",
       "2597503           -3   St 2015-09-04 11:32:14              0.0   \n",
       "2605596           -1   St 2015-09-04 13:06:53              0.0   \n",
       "2811329          -25   St 2015-09-15 16:32:15              0.0   \n",
       "2829393          -10   St 2015-09-16 14:35:49              0.0   \n",
       "2863654           -1   St 2015-09-17 13:14:25              0.0   \n",
       "\n",
       "        Unique_Order_No  Position_in_Order_Updated_Rank  \n",
       "2597503     01670127_v1                               2  \n",
       "2605596     01672819_v1                               4  \n",
       "2811329     01723719_v1                               7  \n",
       "2829393     01728544_v1                               1  \n",
       "2863654     01737252_v1                               6  "
      ]
     },
     "execution_count": 31,
     "metadata": {},
     "output_type": "execute_result"
    }
   ],
   "source": [
    "pick_data_transformed[pick_data_transformed[\"Pick_Volume\"] < 0].head()"
   ]
  },
  {
   "cell_type": "code",
   "execution_count": 29,
   "metadata": {},
   "outputs": [
    {
     "data": {
      "text/plain": [
       "SKU                               99\n",
       "Warehouse_Section                  1\n",
       "Origin                             2\n",
       "Order_No                          94\n",
       "Position_in_Order                 11\n",
       "Pick_Volume                       21\n",
       "Unit                               2\n",
       "Date                              95\n",
       "Time_Difference                    4\n",
       "Unique_Order_No                   94\n",
       "Position_in_Order_Updated_Rank    11\n",
       "dtype: int64"
      ]
     },
     "execution_count": 29,
     "metadata": {},
     "output_type": "execute_result"
    }
   ],
   "source": [
    "pick_data_transformed[pick_data_transformed[\"Pick_Volume\"] < 0].nunique()"
   ]
  },
  {
   "cell_type": "markdown",
   "metadata": {},
   "source": [
    "We've 94 distinct orders that contain negative pick volume and these were recorded only from SHL warehouse section"
   ]
  },
  {
   "cell_type": "code",
   "execution_count": 30,
   "metadata": {},
   "outputs": [
    {
     "name": "stdout",
     "output_type": "stream",
     "text": [
      "<class 'pandas.core.frame.DataFrame'>\n",
      "Int64Index: 100 entries, 2597503 to 33876739\n",
      "Data columns (total 11 columns):\n",
      " #   Column                          Non-Null Count  Dtype         \n",
      "---  ------                          --------------  -----         \n",
      " 0   SKU                             100 non-null    string        \n",
      " 1   Warehouse_Section               100 non-null    category      \n",
      " 2   Origin                          100 non-null    int64         \n",
      " 3   Order_No                        100 non-null    string        \n",
      " 4   Position_in_Order               100 non-null    int64         \n",
      " 5   Pick_Volume                     100 non-null    int64         \n",
      " 6   Unit                            100 non-null    category      \n",
      " 7   Date                            100 non-null    datetime64[ns]\n",
      " 8   Time_Difference                 100 non-null    float64       \n",
      " 9   Unique_Order_No                 100 non-null    string        \n",
      " 10  Position_in_Order_Updated_Rank  100 non-null    int32         \n",
      "dtypes: category(2), datetime64[ns](1), float64(1), int32(1), int64(3), string(3)\n",
      "memory usage: 8.2 KB\n"
     ]
    }
   ],
   "source": [
    "pick_data_transformed[pick_data_transformed[\"Pick_Volume\"] < 0].info()"
   ]
  },
  {
   "cell_type": "markdown",
   "metadata": {},
   "source": [
    "Cleaning Negative Pick Volume"
   ]
  },
  {
   "cell_type": "code",
   "execution_count": 32,
   "metadata": {},
   "outputs": [
    {
     "name": "stdout",
     "output_type": "stream",
     "text": [
      "100\n"
     ]
    }
   ],
   "source": [
    "PICK_VOLUME = \"Pick_Volume\"\n",
    "# Storing all indices that have -ve Pick Vol in a list\n",
    "negative_indices = pick_data_transformed.index[\n",
    "    pick_data_transformed[PICK_VOLUME] < 0\n",
    "].to_list()  \n",
    "print(len(negative_indices))"
   ]
  },
  {
   "cell_type": "markdown",
   "metadata": {},
   "source": [
    "\"Condition\": Decided to merge the rows containing negative pick volume with the row that had an exact match of all the other parameters. And in or case the row right above is what we'll be making the comparison with"
   ]
  },
  {
   "cell_type": "code",
   "execution_count": 33,
   "metadata": {},
   "outputs": [
    {
     "name": "stdout",
     "output_type": "stream",
     "text": [
      "71\n",
      "15\n",
      "14\n"
     ]
    }
   ],
   "source": [
    "# All the indices which didn't match the \"Condition\" are stored in this list\n",
    "missed_indices = []\n",
    "# All the indices which matched the \"Condition\" but the sum of Pick_Volume equalled 0\n",
    "missed_indices_sum_0 = []\n",
    "# List to collect indices that need to be dropped\n",
    "indices_to_drop = []\n",
    "unique_order_nos_condition_failed = []\n",
    "unique_order_nos_pick_volume_sum_0 = []\n",
    "unique_order_nos_dropped = []\n",
    "\n",
    "columns_to_drop_before_compare = pick_data_transformed.columns.difference(\n",
    "    [PICK_VOLUME, \"Pick_Vol_Positive_Flag\", \"Pick_Vol_Zero_Flag\", \"Time_Difference\"]\n",
    ")\n",
    "\n",
    "for index in negative_indices:\n",
    "    if index > 0:  # Ensure there's a row above to compare with\n",
    "        # Row above the one with negative pick volume\n",
    "        row_above = pick_data_transformed.loc[\n",
    "            index - 1, columns_to_drop_before_compare\n",
    "        ]\n",
    "        \n",
    "        # Row with negative pick volume. Selecting only relevant columns for comparison\n",
    "        negative_row = pick_data_transformed.loc[\n",
    "            index, columns_to_drop_before_compare\n",
    "        ]\n",
    "\n",
    "        # Compare rows excluding 'pick_volume'\n",
    "        if row_above.equals(negative_row):\n",
    "            # Combine the 'Pick_Volume' values\n",
    "            combined_pick_volume = (\n",
    "                pick_data_transformed.at[index - 1, PICK_VOLUME]\n",
    "                + pick_data_transformed.at[index, PICK_VOLUME]\n",
    "            )\n",
    "\n",
    "            if combined_pick_volume > 0:\n",
    "                # Update the pick_volume for the row_above\n",
    "                pick_data_transformed.at[index - 1, PICK_VOLUME] = combined_pick_volume\n",
    "                \n",
    "                # Add the index of the negative pick_volume row to the drop list\n",
    "                indices_to_drop.append(index)\n",
    "                \n",
    "                # Store the Unique_Order_No for the row being dropped\n",
    "                unique_order_nos_dropped.append(\n",
    "                    pick_data_transformed.at[index, \"Unique_Order_No\"]\n",
    "                )\n",
    "            else:\n",
    "                # Track where combined Pick_Volume is <= 0\n",
    "                missed_indices_sum_0.append(index)\n",
    "                \n",
    "                # Store the Unique_Order_No for the row where combined Pick_Volume <= 0\n",
    "                unique_order_nos_pick_volume_sum_0.append(\n",
    "                    pick_data_transformed.at[index, \"Unique_Order_No\"]\n",
    "                )\n",
    "        else:\n",
    "            # Track rows where they don't match\n",
    "            missed_indices.append(index)\n",
    "            \n",
    "            # Store the Unique_Order_No where the 'Condition' failed\n",
    "            unique_order_nos_condition_failed.append(\n",
    "                pick_data_transformed.at[index, \"Unique_Order_No\"]\n",
    "            )\n",
    "\n",
    "print(len(indices_to_drop))\n",
    "print(len(missed_indices))\n",
    "print(len(missed_indices_sum_0))"
   ]
  },
  {
   "cell_type": "markdown",
   "metadata": {},
   "source": [
    "We've already merged the sum of Pick_Volume and the 71 indices will be dropped"
   ]
  },
  {
   "cell_type": "code",
   "execution_count": 34,
   "metadata": {},
   "outputs": [
    {
     "name": "stdout",
     "output_type": "stream",
     "text": [
      "<class 'pandas.core.frame.DataFrame'>\n",
      "RangeIndex: 33880895 entries, 0 to 33880894\n",
      "Data columns (total 11 columns):\n",
      " #   Column                          Dtype         \n",
      "---  ------                          -----         \n",
      " 0   SKU                             string        \n",
      " 1   Warehouse_Section               category      \n",
      " 2   Origin                          int64         \n",
      " 3   Order_No                        string        \n",
      " 4   Position_in_Order               int64         \n",
      " 5   Pick_Volume                     int64         \n",
      " 6   Unit                            category      \n",
      " 7   Date                            datetime64[ns]\n",
      " 8   Time_Difference                 float64       \n",
      " 9   Unique_Order_No                 string        \n",
      " 10  Position_in_Order_Updated_Rank  int32         \n",
      "dtypes: category(2), datetime64[ns](1), float64(1), int32(1), int64(3), string(3)\n",
      "memory usage: 2.2 GB\n"
     ]
    }
   ],
   "source": [
    "pick_data_transformed = pick_data_transformed.drop(indices_to_drop)\n",
    "# Reset index to create a clean, sequential index\n",
    "pick_data_transformed = pick_data_transformed.reset_index(drop=True)  \n",
    "pick_data_transformed.info()"
   ]
  },
  {
   "cell_type": "markdown",
   "metadata": {},
   "source": [
    "### Creating a custom df `unique_order_details` that will be used for some of the visualizations in PowerBI"
   ]
  },
  {
   "cell_type": "code",
   "execution_count": 35,
   "metadata": {},
   "outputs": [],
   "source": [
    "# Grouping by 'Unique_Order_No' and getting the first and last timestamp for each order\n",
    "unique_order_details = (\n",
    "    pick_data_transformed.groupby(\"Unique_Order_No\")\n",
    "    .agg(\n",
    "        Start_Time=(\"Date\", \"first\"),\n",
    "        End_Time=(\"Date\", \"last\"),\n",
    "    )\n",
    "    .reset_index()\n",
    ")"
   ]
  },
  {
   "cell_type": "code",
   "execution_count": null,
   "metadata": {},
   "outputs": [],
   "source": [
    "# Add a new column with Unique warehouse sections in 2 steps\n",
    "# Step 1: Aggregate unique Warehouse_Sections for each Unique_Order_No\n",
    "unique_warehouse_sections = pick_data_transformed.groupby(\"Unique_Order_No\")[\"Warehouse_Section\"].agg(\n",
    "    lambda x: \", \".join(x.unique()))\n",
    "\n",
    "# Step 2: Map the result to unique_order_details\n",
    "unique_order_details[\"Unique_Warehouse_Sections\"] = unique_order_details[\"Unique_Order_No\"].map(unique_warehouse_sections)"
   ]
  },
  {
   "cell_type": "code",
   "execution_count": null,
   "metadata": {},
   "outputs": [],
   "source": [
    "# Add a new column with pick count per order in 2 steps\n",
    "# Step 1: Count the number of rows per Unique_Order_No in pick_data\n",
    "order_row_counts = pick_data_transformed.groupby(\"Unique_Order_No\").size()\n",
    "\n",
    "# Step 2: Add the new column to unique_order_details\n",
    "unique_order_details[\"Pick_Count\"] = unique_order_details[\"Unique_Order_No\"].map(order_row_counts)"
   ]
  },
  {
   "cell_type": "code",
   "execution_count": null,
   "metadata": {},
   "outputs": [],
   "source": [
    "# Add a new column that counts the number of unique warehouses per order\n",
    "# Count the number of unique warehouse sections in each order\n",
    "unique_order_details[\"Unique_Warehouse_Count\"] = (\n",
    "    unique_order_details[\"Unique_Warehouse_Sections\"]\n",
    "    .str.split(\", \")\n",
    "    .str.len()\n",
    "    .fillna(0)\n",
    "    .astype(int)\n",
    ")"
   ]
  },
  {
   "cell_type": "code",
   "execution_count": null,
   "metadata": {},
   "outputs": [],
   "source": [
    "# Add a new column with Unique SKUs in 2 steps\n",
    "# Step 1: Aggregate unique SKUs for each Unique_Order_No\n",
    "unique_skus = pick_data_transformed.groupby(\"Unique_Order_No\")[\"SKU\"].agg(lambda x: \", \".join(x.unique()))\n",
    "\n",
    "# Step 2: Add the new column to unique_order_details\n",
    "unique_order_details[\"Unique_SKUs\"] = unique_order_details[\"Unique_Order_No\"].map(unique_skus)"
   ]
  },
  {
   "cell_type": "code",
   "execution_count": null,
   "metadata": {},
   "outputs": [],
   "source": [
    "# Add a new column that counts the number of unique SKUs per order\n",
    "# Count the number of unique SKUs in each order\n",
    "unique_order_details[\"Unique_SKU_Count\"] = (\n",
    "    unique_order_details[\"Unique_SKUs\"].str.split(\", \").str.len().fillna(0).astype(int)\n",
    ")"
   ]
  },
  {
   "cell_type": "code",
   "execution_count": null,
   "metadata": {},
   "outputs": [],
   "source": [
    "# Calculate time difference in seconds\n",
    "unique_order_details[\"Time_Difference_Seconds\"] = (\n",
    "    unique_order_details[\"End_Time\"] - unique_order_details[\"Start_Time\"]\n",
    ").dt.total_seconds()"
   ]
  },
  {
   "cell_type": "code",
   "execution_count": 38,
   "metadata": {},
   "outputs": [
    {
     "data": {
      "text/html": [
       "<div>\n",
       "<style scoped>\n",
       "    .dataframe tbody tr th:only-of-type {\n",
       "        vertical-align: middle;\n",
       "    }\n",
       "\n",
       "    .dataframe tbody tr th {\n",
       "        vertical-align: top;\n",
       "    }\n",
       "\n",
       "    .dataframe thead th {\n",
       "        text-align: right;\n",
       "    }\n",
       "</style>\n",
       "<table border=\"1\" class=\"dataframe\">\n",
       "  <thead>\n",
       "    <tr style=\"text-align: right;\">\n",
       "      <th></th>\n",
       "      <th>Unique_Order_No</th>\n",
       "      <th>Start_Time</th>\n",
       "      <th>End_Time</th>\n",
       "      <th>Unique_Warehouse_Sections</th>\n",
       "      <th>Pick_Count</th>\n",
       "      <th>Unique_Warehouse_Count</th>\n",
       "      <th>Unique_SKUs</th>\n",
       "      <th>Unique_SKU_Count</th>\n",
       "      <th>Time_Difference_Seconds</th>\n",
       "    </tr>\n",
       "  </thead>\n",
       "  <tbody>\n",
       "    <tr>\n",
       "      <th>0</th>\n",
       "      <td>01000000_v1</td>\n",
       "      <td>2020-05-14 15:55:18</td>\n",
       "      <td>2020-05-14 15:55:19</td>\n",
       "      <td>SHL</td>\n",
       "      <td>9</td>\n",
       "      <td>1</td>\n",
       "      <td>F80856, Z71504, C06077, E20008, E20007, E20019...</td>\n",
       "      <td>9</td>\n",
       "      <td>1.0</td>\n",
       "    </tr>\n",
       "    <tr>\n",
       "      <th>1</th>\n",
       "      <td>01000001_v1</td>\n",
       "      <td>2020-05-14 23:01:11</td>\n",
       "      <td>2020-05-14 23:01:13</td>\n",
       "      <td>SHL</td>\n",
       "      <td>5</td>\n",
       "      <td>1</td>\n",
       "      <td>206452, 234112, 234114, G41665, G41660</td>\n",
       "      <td>5</td>\n",
       "      <td>2.0</td>\n",
       "    </tr>\n",
       "    <tr>\n",
       "      <th>2</th>\n",
       "      <td>01000002_v1</td>\n",
       "      <td>2015-04-16 15:16:37</td>\n",
       "      <td>2015-04-16 15:16:37</td>\n",
       "      <td>AKL</td>\n",
       "      <td>1</td>\n",
       "      <td>1</td>\n",
       "      <td>A80704</td>\n",
       "      <td>1</td>\n",
       "      <td>0.0</td>\n",
       "    </tr>\n",
       "    <tr>\n",
       "      <th>3</th>\n",
       "      <td>01000002_v2</td>\n",
       "      <td>2019-05-22 22:07:30</td>\n",
       "      <td>2019-05-22 22:07:31</td>\n",
       "      <td>SHL</td>\n",
       "      <td>5</td>\n",
       "      <td>1</td>\n",
       "      <td>243095, 242738, 113725, 387126, 384304</td>\n",
       "      <td>5</td>\n",
       "      <td>1.0</td>\n",
       "    </tr>\n",
       "    <tr>\n",
       "      <th>4</th>\n",
       "      <td>01000002_v3</td>\n",
       "      <td>2020-05-14 15:47:45</td>\n",
       "      <td>2020-05-14 15:47:45</td>\n",
       "      <td>SHL</td>\n",
       "      <td>1</td>\n",
       "      <td>1</td>\n",
       "      <td>283136</td>\n",
       "      <td>1</td>\n",
       "      <td>0.0</td>\n",
       "    </tr>\n",
       "  </tbody>\n",
       "</table>\n",
       "</div>"
      ],
      "text/plain": [
       "  Unique_Order_No           Start_Time             End_Time  \\\n",
       "0     01000000_v1  2020-05-14 15:55:18  2020-05-14 15:55:19   \n",
       "1     01000001_v1  2020-05-14 23:01:11  2020-05-14 23:01:13   \n",
       "2     01000002_v1  2015-04-16 15:16:37  2015-04-16 15:16:37   \n",
       "3     01000002_v2  2019-05-22 22:07:30  2019-05-22 22:07:31   \n",
       "4     01000002_v3  2020-05-14 15:47:45  2020-05-14 15:47:45   \n",
       "\n",
       "  Unique_Warehouse_Sections  Pick_Count  Unique_Warehouse_Count  \\\n",
       "0                       SHL           9                       1   \n",
       "1                       SHL           5                       1   \n",
       "2                       AKL           1                       1   \n",
       "3                       SHL           5                       1   \n",
       "4                       SHL           1                       1   \n",
       "\n",
       "                                         Unique_SKUs  Unique_SKU_Count  \\\n",
       "0  F80856, Z71504, C06077, E20008, E20007, E20019...                 9   \n",
       "1             206452, 234112, 234114, G41665, G41660                 5   \n",
       "2                                             A80704                 1   \n",
       "3             243095, 242738, 113725, 387126, 384304                 5   \n",
       "4                                             283136                 1   \n",
       "\n",
       "   Time_Difference_Seconds  \n",
       "0                      1.0  \n",
       "1                      2.0  \n",
       "2                      0.0  \n",
       "3                      1.0  \n",
       "4                      0.0  "
      ]
     },
     "execution_count": 38,
     "metadata": {},
     "output_type": "execute_result"
    }
   ],
   "source": [
    "unique_order_details.head()"
   ]
  },
  {
   "cell_type": "markdown",
   "metadata": {},
   "source": [
    "### Univariate Analysis of the number of distinct products in Orders"
   ]
  },
  {
   "cell_type": "code",
   "execution_count": 39,
   "metadata": {},
   "outputs": [],
   "source": [
    "# Step 1: Extract max Position_in_Order_Updated (i.e. no of distinct SKUs) for each Unique_Order_No\n",
    "order_max_positions = (\n",
    "    pick_data_transformed.groupby([\"Unique_Order_No\", \"Origin\"])[\n",
    "        \"Position_in_Order_Updated_Rank\"\n",
    "    ]\n",
    "    .max()\n",
    "    .reset_index()\n",
    ")\n",
    "order_max_positions.rename(columns={\"Position_in_Order_Updated_Rank\": \"Distinct_SKUs_per_Order\"}, inplace=True)"
   ]
  },
  {
   "cell_type": "code",
   "execution_count": 40,
   "metadata": {},
   "outputs": [],
   "source": [
    "# Step 2: Stratify by Origin\n",
    "store_orders = order_max_positions[order_max_positions[\"Origin\"] == 46]\n",
    "customer_orders = order_max_positions[order_max_positions[\"Origin\"] == 48]"
   ]
  },
  {
   "cell_type": "code",
   "execution_count": 41,
   "metadata": {},
   "outputs": [],
   "source": [
    "# Step 3: Basic statistics for each group\n",
    "def summary_stats(group, column):\n",
    "    \"\"\"\n",
    "    Calculate summary statistics for a specified column in a given group.\n",
    "    \n",
    "    Args:\n",
    "        group (pandas.DataFrame or pandas.Series): The group of data (typically a subset of a DataFrame)\n",
    "            for which summary statistics will be calculated. It is expected to contain the specified column.\n",
    "        column (str): The name of the column for which the statistics will be calculated.\n",
    "    \n",
    "    Returns:\n",
    "        dict: A dictionary containing the following statistics for the specified column:\n",
    "            - 'count': The number of non-null entries in the column.\n",
    "            - 'mean': The mean of the column.\n",
    "            - 'median': The median of the column.\n",
    "            - 'mode': The mode of the column (first mode if multiple modes exist).\n",
    "            - 'min': The minimum value in the column.\n",
    "            - 'max': The maximum value in the column.\n",
    "            - 'std': The standard deviation of the column.\n",
    "            - 'skew': The skewness of the column.\n",
    "            - 'kurtosis': The kurtosis of the column.\n",
    "    \"\"\"\n",
    "    stats = {\n",
    "        \"count\": len(group),\n",
    "        \"mean\": np.mean(group[column]),\n",
    "        \"median\": np.median(group[column]),\n",
    "        \"mode\": group[column].mode()[0] if not group[column].mode().empty else np.nan,\n",
    "        \"min\": group[column].min(),\n",
    "        \"max\": group[column].max(),\n",
    "        \"std\": np.std(group[column]),\n",
    "        \"skew\": skew(group[column]),\n",
    "        \"kurtosis\": kurtosis(group[column]),\n",
    "    }\n",
    "    return stats"
   ]
  },
  {
   "cell_type": "code",
   "execution_count": 42,
   "metadata": {},
   "outputs": [
    {
     "name": "stdout",
     "output_type": "stream",
     "text": [
      "Store Orders Statistics:\n",
      "{'count': 1019622, 'mean': 6.66224149733921, 'median': 4.0, 'mode': 1, 'min': 1, 'max': 85, 'std': 7.662045234749806, 'skew': 2.7574850695234496, 'kurtosis': 9.70779227462919}\n",
      "\n",
      "Customer Orders Statistics:\n",
      "{'count': 8351557, 'mean': 2.9888722545987534, 'median': 2.0, 'mode': 1, 'min': 1, 'max': 338, 'std': 3.7193866366835007, 'skew': 5.31518380607057, 'kurtosis': 86.02681412452898}\n"
     ]
    }
   ],
   "source": [
    "store_stats = summary_stats(store_orders, \"Distinct_SKUs_per_Order\")\n",
    "customer_stats = summary_stats(customer_orders, \"Distinct_SKUs_per_Order\")\n",
    "print(\"Store Orders Statistics:\")\n",
    "print(store_stats)\n",
    "print(\"\\nCustomer Orders Statistics:\")\n",
    "print(customer_stats)"
   ]
  },
  {
   "cell_type": "code",
   "execution_count": 43,
   "metadata": {},
   "outputs": [
    {
     "data": {
      "image/png": "[encoded data removed]",
      "text/plain": [
       "<Figure size 576x432 with 1 Axes>"
      ]
     },
     "metadata": {
      "needs_background": "light"
     },
     "output_type": "display_data"
    }
   ],
   "source": [
    "# Plot histogram and normal distribution curve for store_orders\n",
    "plt.figure(figsize=(8, 6))\n",
    "\n",
    "# Store Orders Histogram\n",
    "sns.histplot(\n",
    "    store_orders[\"Distinct_SKUs_per_Order\"],\n",
    "    kde=False,\n",
    "    color=\"skyblue\",\n",
    "    bins=20,\n",
    "    stat=\"density\",\n",
    ")\n",
    "# Fit normal distribution and plot the curve\n",
    "mu_store, std_store = norm.fit(store_orders[\"Distinct_SKUs_per_Order\"])\n",
    "xmin, xmax = plt.xlim()\n",
    "x = np.linspace(xmin, xmax, 100)\n",
    "p = norm.pdf(x, mu_store, std_store)\n",
    "plt.plot(x, p, \"r-\", linewidth=2, label=\"Normal Curve\")\n",
    "plt.title(\"Histogram of Distinct SKUs per Store Order with Normal Curve (Origin 46)\")\n",
    "plt.xlabel(\"Distinct SKUs per Store Order\")\n",
    "plt.ylabel(\"Density\")\n",
    "plt.legend()\n",
    "\n",
    "plt.tight_layout()\n",
    "plt.show()"
   ]
  },
  {
   "cell_type": "code",
   "execution_count": 44,
   "metadata": {},
   "outputs": [
    {
     "data": {
      "image/png": "[encoded data removed]",
      "text/plain": [
       "<Figure size 576x432 with 1 Axes>"
      ]
     },
     "metadata": {
      "needs_background": "light"
     },
     "output_type": "display_data"
    }
   ],
   "source": [
    "# Plot histogram and normal distribution curve for customer_orders\n",
    "plt.figure(figsize=(8, 6))\n",
    "\n",
    "# Customer Orders Histogram\n",
    "sns.histplot(\n",
    "    customer_orders[\"Distinct_SKUs_per_Order\"],\n",
    "    kde=False,\n",
    "    color=\"skyblue\",\n",
    "    bins=20,\n",
    "    stat=\"density\",\n",
    ")\n",
    "# Fit normal distribution and plot the curve\n",
    "mu_customer, std_customer = norm.fit(customer_orders[\"Distinct_SKUs_per_Order\"])\n",
    "x = np.linspace(xmin, xmax, 100)\n",
    "p = norm.pdf(x, mu_customer, std_customer)\n",
    "plt.plot(x, p, \"r-\", linewidth=2, label=\"Normal Curve\")\n",
    "plt.title(\"Histogram of Distinct SKUs per Customer Order with Normal Curve (Origin 48)\")\n",
    "plt.xlabel(\"Distinct SKUs per Customer Order\")\n",
    "plt.ylabel(\"Density\")\n",
    "plt.legend()\n",
    "\n",
    "plt.tight_layout()\n",
    "plt.show()"
   ]
  },
  {
   "cell_type": "code",
   "execution_count": 45,
   "metadata": {},
   "outputs": [],
   "source": [
    "def detect_outliers_zscore(data, col_name, threshold=3):\n",
    "    \"\"\"\n",
    "    Detect outliers in a specified column using the regular z-score method.\n",
    "    \n",
    "    Args:\n",
    "        data (pandas.DataFrame): The dataframe containing the data to be processed.\n",
    "        col_name (str): The name of the column for which outliers are to be detected.\n",
    "        threshold (int, optional): The threshold for identifying outliers based on the z-score. \n",
    "                                      Defaults to 3. Values with an absolute z-score greater than this \n",
    "                                      threshold are flagged as outliers.\n",
    "\n",
    "    Returns:\n",
    "        pandas.DataFrame: The input dataframe with two additional columns:\n",
    "            - 'Z_Score': The calculated z-scores for each entry in the specified column.\n",
    "            - 'col_name_Outlier_Flag': A boolean flag indicating whether the corresponding entry is an outlier (True) \n",
    "              or not (False).\n",
    "    \"\"\"\n",
    "    # Calculate z-scores for the specified column using scipy's zscore function\n",
    "    data[\"Z_Score\"] = zscore(data[col_name])\n",
    "\n",
    "    # Flag outliers based on the threshold\n",
    "    outlier_flag_col_name = col_name + \"_Outlier_Flag\"\n",
    "    data[outlier_flag_col_name] = np.abs(data[\"Z_Score\"]) > threshold\n",
    "\n",
    "    return data"
   ]
  },
  {
   "cell_type": "code",
   "execution_count": 46,
   "metadata": {},
   "outputs": [],
   "source": [
    "# Apply outlier detection for Store and Customer Orders\n",
    "store_orders = detect_outliers_zscore(store_orders, \"Distinct_SKUs_per_Order\")\n",
    "customer_orders = detect_outliers_zscore(customer_orders, \"Distinct_SKUs_per_Order\")"
   ]
  },
  {
   "cell_type": "code",
   "execution_count": 54,
   "metadata": {},
   "outputs": [
    {
     "name": "stdout",
     "output_type": "stream",
     "text": [
      "False    0.968895\n",
      "True     0.031105\n",
      "Name: Distinct_SKUs_per_Order_Outlier_Flag, dtype: float64\n",
      "The z-score test suggests that store orders, usually have upto 29 distinct items\n"
     ]
    }
   ],
   "source": [
    "print(store_orders[\"Distinct_SKUs_per_Order_Outlier_Flag\"].value_counts(normalize=True))\n",
    "count_of_distinct_items_store = store_orders[~store_orders[\"Distinct_SKUs_per_Order_Outlier_Flag\"]][\n",
    "    \"Distinct_SKUs_per_Order\"].max()\n",
    "print(f\"The z-score test suggests that store orders, usually have upto {count_of_distinct_items_store} distinct items\")"
   ]
  },
  {
   "cell_type": "code",
   "execution_count": null,
   "metadata": {},
   "outputs": [
    {
     "name": "stdout",
     "output_type": "stream",
     "text": [
      "False    0.980946\n",
      "True     0.019054\n",
      "Name: Distinct_SKUs_per_Order_Outlier_Flag, dtype: float64\n",
      "The z-score test suggests that customer orders, usually have upto 14 distinct items\n"
     ]
    }
   ],
   "source": [
    "print(customer_orders[\"Distinct_SKUs_per_Order_Outlier_Flag\"].value_counts(normalize=True))\n",
    "count_of_distinct_items_customer = customer_orders[~customer_orders[\"Distinct_SKUs_per_Order_Outlier_Flag\"]][\n",
    "    \"Distinct_SKUs_per_Order\"].max()\n",
    "print(f\"The z-score test suggests that customer orders, usually have upto {count_of_distinct_items_customer} distinct items\")"
   ]
  },
  {
   "cell_type": "markdown",
   "metadata": {},
   "source": [
    "Conclusion:\n",
    "\n",
    "There are only 3% of Store Orders and 2% of Customer Orders that are outliers based on the count of distinct products in them. We can also conclude that Stores purchase upto 29 distinct items per order whereas Customers purchase  upto 14 distinct items per order."
   ]
  },
  {
   "cell_type": "markdown",
   "metadata": {},
   "source": [
    "### Converting the transformed DataFrames into csv files to be stored into our MySQL Staging Database"
   ]
  },
  {
   "cell_type": "code",
   "execution_count": null,
   "metadata": {},
   "outputs": [],
   "source": [
    "product_data_transformed.to_csv(\"product_data_transformed\", index=False)\n",
    "pick_data_transformed.to_csv(\"pick_data_transformed.csv\", index=False)\n",
    "unique_order_details.to_csv(\"unique_order_details\", index=False)"
   ]
  },
  {
   "cell_type": "markdown",
   "metadata": {},
   "source": [
    "### Prediction Modelling"
   ]
  },
  {
   "cell_type": "markdown",
   "metadata": {},
   "source": [
    "The objective is to predict the number of picks that would occur on a given day for each Warehouse Section. By accurately forecasting the number of picks per day, OBETA could optimize manpower allocation and improve operational efficiency. This would ensure that sufficient resources are available for picking tasks while avoiding under or over-staffing."
   ]
  },
  {
   "cell_type": "code",
   "execution_count": 3,
   "metadata": {},
   "outputs": [
    {
     "name": "stdout",
     "output_type": "stream",
     "text": [
      "<class 'pandas.core.frame.DataFrame'>\n",
      "RangeIndex: 33880895 entries, 0 to 33880894\n",
      "Data columns (total 11 columns):\n",
      " #   Column                          Dtype  \n",
      "---  ------                          -----  \n",
      " 0   SKU                             object \n",
      " 1   Warehouse_Section               object \n",
      " 2   Origin                          int64  \n",
      " 3   Order_No                        object \n",
      " 4   Position_in_Order               int64  \n",
      " 5   Pick_Volume                     int64  \n",
      " 6   Unit                            object \n",
      " 7   Date                            object \n",
      " 8   Time_Difference                 float64\n",
      " 9   Unique_Order_No                 object \n",
      " 10  Position_in_Order_Updated_Rank  int64  \n",
      "dtypes: float64(1), int64(4), object(6)\n",
      "memory usage: 2.8+ GB\n"
     ]
    }
   ],
   "source": [
    "pick_data_transformed.info()"
   ]
  },
  {
   "cell_type": "code",
   "execution_count": 4,
   "metadata": {},
   "outputs": [
    {
     "name": "stdout",
     "output_type": "stream",
     "text": [
      "<class 'pandas.core.frame.DataFrame'>\n",
      "RangeIndex: 33880895 entries, 0 to 33880894\n",
      "Data columns (total 10 columns):\n",
      " #   Column                          Dtype         \n",
      "---  ------                          -----         \n",
      " 0   SKU                             string        \n",
      " 1   Warehouse_Section               category      \n",
      " 2   Origin                          category      \n",
      " 3   Order_No                        string        \n",
      " 4   Position_in_Order               int32         \n",
      " 5   Pick_Volume                     int32         \n",
      " 6   Unit                            category      \n",
      " 7   Date                            datetime64[ns]\n",
      " 8   Unique_Order_No                 string        \n",
      " 9   Position_in_Order_Updated_Rank  int32         \n",
      "dtypes: category(3), datetime64[ns](1), int32(3), string(3)\n",
      "memory usage: 1.5 GB\n"
     ]
    }
   ],
   "source": [
    "pick_data_transformed[[\"Warehouse_Section\", \"Unit\", \"Origin\"]] = pick_data_transformed[\n",
    "    [\"Warehouse_Section\", \"Unit\", \"Origin\"]].astype(\"category\")\n",
    "pick_data_transformed[\"Date\"] = pd.to_datetime(pick_data_transformed[\"Date\"], format=\"%Y-%m-%d %H:%M:%S\", errors=\"coerce\")\n",
    "pick_data_transformed[[\"SKU\", \"Order_No\", \"Unique_Order_No\"]] = pick_data_transformed[\n",
    "    [\"SKU\", \"Order_No\", \"Unique_Order_No\"]].astype(\"string\")\n",
    "pick_data_transformed[[\"Position_in_Order\", \"Pick_Volume\", \"Position_in_Order_Updated_Rank\"]] = pick_data_transformed[\n",
    "    [\"Position_in_Order\", \"Pick_Volume\", \"Position_in_Order_Updated_Rank\"]].astype(\"int32\")\n",
    "pick_data_transformed.drop('Time_Difference', axis=1, inplace=True)\n",
    "\n",
    "pick_data_transformed.info()"
   ]
  },
  {
   "cell_type": "markdown",
   "metadata": {},
   "source": [
    "Create 'Date_only' as a new column (date without time)"
   ]
  },
  {
   "cell_type": "code",
   "execution_count": 5,
   "metadata": {},
   "outputs": [],
   "source": [
    "pick_data_transformed['Date_only'] = pick_data_transformed['Date'].dt.date"
   ]
  },
  {
   "cell_type": "markdown",
   "metadata": {},
   "source": [
    "Groupby Warehouse_Section and Date_only"
   ]
  },
  {
   "cell_type": "code",
   "execution_count": 6,
   "metadata": {},
   "outputs": [
    {
     "name": "stdout",
     "output_type": "stream",
     "text": [
      "(14005, 3)\n"
     ]
    },
    {
     "data": {
      "text/html": [
       "<div>\n",
       "<style scoped>\n",
       "    .dataframe tbody tr th:only-of-type {\n",
       "        vertical-align: middle;\n",
       "    }\n",
       "\n",
       "    .dataframe tbody tr th {\n",
       "        vertical-align: top;\n",
       "    }\n",
       "\n",
       "    .dataframe thead th {\n",
       "        text-align: right;\n",
       "    }\n",
       "</style>\n",
       "<table border=\"1\" class=\"dataframe\">\n",
       "  <thead>\n",
       "    <tr style=\"text-align: right;\">\n",
       "      <th></th>\n",
       "      <th>Warehouse_Section</th>\n",
       "      <th>Date_only</th>\n",
       "      <th>No_of_Picks</th>\n",
       "    </tr>\n",
       "  </thead>\n",
       "  <tbody>\n",
       "    <tr>\n",
       "      <th>0</th>\n",
       "      <td>AKL</td>\n",
       "      <td>2011-06-23</td>\n",
       "      <td>9478</td>\n",
       "    </tr>\n",
       "    <tr>\n",
       "      <th>1</th>\n",
       "      <td>AKL</td>\n",
       "      <td>2011-06-24</td>\n",
       "      <td>7959</td>\n",
       "    </tr>\n",
       "    <tr>\n",
       "      <th>2</th>\n",
       "      <td>AKL</td>\n",
       "      <td>2011-06-26</td>\n",
       "      <td>1115</td>\n",
       "    </tr>\n",
       "    <tr>\n",
       "      <th>3</th>\n",
       "      <td>AKL</td>\n",
       "      <td>2011-06-27</td>\n",
       "      <td>9811</td>\n",
       "    </tr>\n",
       "    <tr>\n",
       "      <th>4</th>\n",
       "      <td>AKL</td>\n",
       "      <td>2011-06-28</td>\n",
       "      <td>9120</td>\n",
       "    </tr>\n",
       "  </tbody>\n",
       "</table>\n",
       "</div>"
      ],
      "text/plain": [
       "  Warehouse_Section   Date_only  No_of_Picks\n",
       "0               AKL  2011-06-23         9478\n",
       "1               AKL  2011-06-24         7959\n",
       "2               AKL  2011-06-26         1115\n",
       "3               AKL  2011-06-27         9811\n",
       "4               AKL  2011-06-28         9120"
      ]
     },
     "execution_count": 6,
     "metadata": {},
     "output_type": "execute_result"
    }
   ],
   "source": [
    "# Calculate the target variable: the number of picks per day per section\n",
    "picks_per_date = pick_data_transformed.groupby(['Warehouse_Section', 'Date_only']).size().reset_index(name='No_of_Picks')\n",
    "print(picks_per_date.shape)\n",
    "picks_per_date.head()"
   ]
  },
  {
   "cell_type": "markdown",
   "metadata": {},
   "source": [
    "Calculate the sum of Pick_Volume per Unit in each Warehouse_Section per day"
   ]
  },
  {
   "cell_type": "code",
   "execution_count": 7,
   "metadata": {},
   "outputs": [
    {
     "data": {
      "text/html": [
       "<div>\n",
       "<style scoped>\n",
       "    .dataframe tbody tr th:only-of-type {\n",
       "        vertical-align: middle;\n",
       "    }\n",
       "\n",
       "    .dataframe tbody tr th {\n",
       "        vertical-align: top;\n",
       "    }\n",
       "\n",
       "    .dataframe thead th {\n",
       "        text-align: right;\n",
       "    }\n",
       "</style>\n",
       "<table border=\"1\" class=\"dataframe\">\n",
       "  <thead>\n",
       "    <tr style=\"text-align: right;\">\n",
       "      <th></th>\n",
       "      <th>Warehouse_Section</th>\n",
       "      <th>Date_only</th>\n",
       "      <th>Unit</th>\n",
       "      <th>Pick_Volume</th>\n",
       "    </tr>\n",
       "  </thead>\n",
       "  <tbody>\n",
       "    <tr>\n",
       "      <th>0</th>\n",
       "      <td>AKL</td>\n",
       "      <td>2011-06-23</td>\n",
       "      <td>Bl</td>\n",
       "      <td>1084</td>\n",
       "    </tr>\n",
       "    <tr>\n",
       "      <th>1</th>\n",
       "      <td>AKL</td>\n",
       "      <td>2011-06-23</td>\n",
       "      <td>Ei</td>\n",
       "      <td>0</td>\n",
       "    </tr>\n",
       "    <tr>\n",
       "      <th>2</th>\n",
       "      <td>AKL</td>\n",
       "      <td>2011-06-23</td>\n",
       "      <td>Mt</td>\n",
       "      <td>20315</td>\n",
       "    </tr>\n",
       "    <tr>\n",
       "      <th>3</th>\n",
       "      <td>AKL</td>\n",
       "      <td>2011-06-23</td>\n",
       "      <td>Pa</td>\n",
       "      <td>118</td>\n",
       "    </tr>\n",
       "    <tr>\n",
       "      <th>4</th>\n",
       "      <td>AKL</td>\n",
       "      <td>2011-06-23</td>\n",
       "      <td>Ro</td>\n",
       "      <td>69</td>\n",
       "    </tr>\n",
       "  </tbody>\n",
       "</table>\n",
       "</div>"
      ],
      "text/plain": [
       "  Warehouse_Section   Date_only Unit  Pick_Volume\n",
       "0               AKL  2011-06-23   Bl         1084\n",
       "1               AKL  2011-06-23   Ei            0\n",
       "2               AKL  2011-06-23   Mt        20315\n",
       "3               AKL  2011-06-23   Pa          118\n",
       "4               AKL  2011-06-23   Ro           69"
      ]
     },
     "execution_count": 7,
     "metadata": {},
     "output_type": "execute_result"
    }
   ],
   "source": [
    "pick_volume_daily_sum = pick_data_transformed.groupby(\n",
    "    ['Warehouse_Section', 'Date_only', 'Unit'])['Pick_Volume'].sum().reset_index()\n",
    "pick_volume_daily_sum.head()"
   ]
  },
  {
   "cell_type": "markdown",
   "metadata": {},
   "source": [
    "Pivot to create separate columns for each Unit"
   ]
  },
  {
   "cell_type": "code",
   "execution_count": 8,
   "metadata": {},
   "outputs": [
    {
     "data": {
      "text/html": [
       "<div>\n",
       "<style scoped>\n",
       "    .dataframe tbody tr th:only-of-type {\n",
       "        vertical-align: middle;\n",
       "    }\n",
       "\n",
       "    .dataframe tbody tr th {\n",
       "        vertical-align: top;\n",
       "    }\n",
       "\n",
       "    .dataframe thead th {\n",
       "        text-align: right;\n",
       "    }\n",
       "</style>\n",
       "<table border=\"1\" class=\"dataframe\">\n",
       "  <thead>\n",
       "    <tr style=\"text-align: right;\">\n",
       "      <th></th>\n",
       "      <th>Unit</th>\n",
       "      <th>Bl</th>\n",
       "      <th>Ei</th>\n",
       "      <th>Mt</th>\n",
       "      <th>Pa</th>\n",
       "      <th>Ro</th>\n",
       "      <th>Se</th>\n",
       "      <th>St</th>\n",
       "      <th>VE</th>\n",
       "      <th>kg</th>\n",
       "    </tr>\n",
       "    <tr>\n",
       "      <th>Warehouse_Section</th>\n",
       "      <th>Date_only</th>\n",
       "      <th></th>\n",
       "      <th></th>\n",
       "      <th></th>\n",
       "      <th></th>\n",
       "      <th></th>\n",
       "      <th></th>\n",
       "      <th></th>\n",
       "      <th></th>\n",
       "      <th></th>\n",
       "    </tr>\n",
       "  </thead>\n",
       "  <tbody>\n",
       "    <tr>\n",
       "      <th rowspan=\"10\" valign=\"top\">AKL</th>\n",
       "      <th>2011-06-23</th>\n",
       "      <td>1084</td>\n",
       "      <td>0</td>\n",
       "      <td>20315</td>\n",
       "      <td>118</td>\n",
       "      <td>69</td>\n",
       "      <td>49</td>\n",
       "      <td>460640</td>\n",
       "      <td>0</td>\n",
       "      <td>0</td>\n",
       "    </tr>\n",
       "    <tr>\n",
       "      <th>2011-06-24</th>\n",
       "      <td>625</td>\n",
       "      <td>0</td>\n",
       "      <td>7430</td>\n",
       "      <td>105</td>\n",
       "      <td>37</td>\n",
       "      <td>21</td>\n",
       "      <td>403496</td>\n",
       "      <td>0</td>\n",
       "      <td>0</td>\n",
       "    </tr>\n",
       "    <tr>\n",
       "      <th>2011-06-26</th>\n",
       "      <td>7</td>\n",
       "      <td>0</td>\n",
       "      <td>850</td>\n",
       "      <td>10</td>\n",
       "      <td>6</td>\n",
       "      <td>4</td>\n",
       "      <td>23545</td>\n",
       "      <td>0</td>\n",
       "      <td>0</td>\n",
       "    </tr>\n",
       "    <tr>\n",
       "      <th>2011-06-27</th>\n",
       "      <td>691</td>\n",
       "      <td>0</td>\n",
       "      <td>8915</td>\n",
       "      <td>166</td>\n",
       "      <td>30</td>\n",
       "      <td>20</td>\n",
       "      <td>385515</td>\n",
       "      <td>0</td>\n",
       "      <td>0</td>\n",
       "    </tr>\n",
       "    <tr>\n",
       "      <th>2011-06-28</th>\n",
       "      <td>675</td>\n",
       "      <td>0</td>\n",
       "      <td>9080</td>\n",
       "      <td>96</td>\n",
       "      <td>59</td>\n",
       "      <td>57</td>\n",
       "      <td>408574</td>\n",
       "      <td>0</td>\n",
       "      <td>0</td>\n",
       "    </tr>\n",
       "    <tr>\n",
       "      <th>2011-06-29</th>\n",
       "      <td>1004</td>\n",
       "      <td>0</td>\n",
       "      <td>14545</td>\n",
       "      <td>111</td>\n",
       "      <td>38</td>\n",
       "      <td>19</td>\n",
       "      <td>415473</td>\n",
       "      <td>0</td>\n",
       "      <td>0</td>\n",
       "    </tr>\n",
       "    <tr>\n",
       "      <th>2011-06-30</th>\n",
       "      <td>751</td>\n",
       "      <td>0</td>\n",
       "      <td>6930</td>\n",
       "      <td>182</td>\n",
       "      <td>36</td>\n",
       "      <td>15</td>\n",
       "      <td>386337</td>\n",
       "      <td>0</td>\n",
       "      <td>0</td>\n",
       "    </tr>\n",
       "    <tr>\n",
       "      <th>2011-07-01</th>\n",
       "      <td>897</td>\n",
       "      <td>0</td>\n",
       "      <td>4580</td>\n",
       "      <td>207</td>\n",
       "      <td>86</td>\n",
       "      <td>29</td>\n",
       "      <td>326766</td>\n",
       "      <td>0</td>\n",
       "      <td>0</td>\n",
       "    </tr>\n",
       "    <tr>\n",
       "      <th>2011-07-03</th>\n",
       "      <td>78</td>\n",
       "      <td>0</td>\n",
       "      <td>110</td>\n",
       "      <td>8</td>\n",
       "      <td>0</td>\n",
       "      <td>5</td>\n",
       "      <td>19526</td>\n",
       "      <td>0</td>\n",
       "      <td>0</td>\n",
       "    </tr>\n",
       "    <tr>\n",
       "      <th>2011-07-04</th>\n",
       "      <td>1053</td>\n",
       "      <td>0</td>\n",
       "      <td>11705</td>\n",
       "      <td>160</td>\n",
       "      <td>25</td>\n",
       "      <td>42</td>\n",
       "      <td>329334</td>\n",
       "      <td>0</td>\n",
       "      <td>0</td>\n",
       "    </tr>\n",
       "  </tbody>\n",
       "</table>\n",
       "</div>"
      ],
      "text/plain": [
       "Unit                            Bl  Ei     Mt   Pa  Ro  Se      St  VE  kg\n",
       "Warehouse_Section Date_only                                               \n",
       "AKL               2011-06-23  1084   0  20315  118  69  49  460640   0   0\n",
       "                  2011-06-24   625   0   7430  105  37  21  403496   0   0\n",
       "                  2011-06-26     7   0    850   10   6   4   23545   0   0\n",
       "                  2011-06-27   691   0   8915  166  30  20  385515   0   0\n",
       "                  2011-06-28   675   0   9080   96  59  57  408574   0   0\n",
       "                  2011-06-29  1004   0  14545  111  38  19  415473   0   0\n",
       "                  2011-06-30   751   0   6930  182  36  15  386337   0   0\n",
       "                  2011-07-01   897   0   4580  207  86  29  326766   0   0\n",
       "                  2011-07-03    78   0    110    8   0   5   19526   0   0\n",
       "                  2011-07-04  1053   0  11705  160  25  42  329334   0   0"
      ]
     },
     "execution_count": 8,
     "metadata": {},
     "output_type": "execute_result"
    }
   ],
   "source": [
    "pick_volume_daily_sum_pivot = pick_volume_daily_sum.pivot_table(\n",
    "    index=['Warehouse_Section', 'Date_only'],\n",
    "    columns='Unit',\n",
    "    values='Pick_Volume',\n",
    "    aggfunc='sum',\n",
    "    fill_value=0\n",
    ")\n",
    "pick_volume_daily_sum_pivot.head(10)"
   ]
  },
  {
   "cell_type": "markdown",
   "metadata": {},
   "source": [
    "Merge the picks_per_date with the pick_volume_daily_sum_pivot"
   ]
  },
  {
   "cell_type": "code",
   "execution_count": 9,
   "metadata": {},
   "outputs": [
    {
     "data": {
      "text/html": [
       "<div>\n",
       "<style scoped>\n",
       "    .dataframe tbody tr th:only-of-type {\n",
       "        vertical-align: middle;\n",
       "    }\n",
       "\n",
       "    .dataframe tbody tr th {\n",
       "        vertical-align: top;\n",
       "    }\n",
       "\n",
       "    .dataframe thead th {\n",
       "        text-align: right;\n",
       "    }\n",
       "</style>\n",
       "<table border=\"1\" class=\"dataframe\">\n",
       "  <thead>\n",
       "    <tr style=\"text-align: right;\">\n",
       "      <th></th>\n",
       "      <th>Warehouse_Section</th>\n",
       "      <th>Date_only</th>\n",
       "      <th>No_of_Picks</th>\n",
       "      <th>Bl</th>\n",
       "      <th>Ei</th>\n",
       "      <th>Mt</th>\n",
       "      <th>Pa</th>\n",
       "      <th>Ro</th>\n",
       "      <th>Se</th>\n",
       "      <th>St</th>\n",
       "      <th>VE</th>\n",
       "      <th>kg</th>\n",
       "    </tr>\n",
       "  </thead>\n",
       "  <tbody>\n",
       "    <tr>\n",
       "      <th>0</th>\n",
       "      <td>AKL</td>\n",
       "      <td>2011-06-23</td>\n",
       "      <td>9478</td>\n",
       "      <td>1084</td>\n",
       "      <td>0</td>\n",
       "      <td>20315</td>\n",
       "      <td>118</td>\n",
       "      <td>69</td>\n",
       "      <td>49</td>\n",
       "      <td>460640</td>\n",
       "      <td>0</td>\n",
       "      <td>0</td>\n",
       "    </tr>\n",
       "    <tr>\n",
       "      <th>1</th>\n",
       "      <td>AKL</td>\n",
       "      <td>2011-06-24</td>\n",
       "      <td>7959</td>\n",
       "      <td>625</td>\n",
       "      <td>0</td>\n",
       "      <td>7430</td>\n",
       "      <td>105</td>\n",
       "      <td>37</td>\n",
       "      <td>21</td>\n",
       "      <td>403496</td>\n",
       "      <td>0</td>\n",
       "      <td>0</td>\n",
       "    </tr>\n",
       "    <tr>\n",
       "      <th>2</th>\n",
       "      <td>AKL</td>\n",
       "      <td>2011-06-26</td>\n",
       "      <td>1115</td>\n",
       "      <td>7</td>\n",
       "      <td>0</td>\n",
       "      <td>850</td>\n",
       "      <td>10</td>\n",
       "      <td>6</td>\n",
       "      <td>4</td>\n",
       "      <td>23545</td>\n",
       "      <td>0</td>\n",
       "      <td>0</td>\n",
       "    </tr>\n",
       "    <tr>\n",
       "      <th>3</th>\n",
       "      <td>AKL</td>\n",
       "      <td>2011-06-27</td>\n",
       "      <td>9811</td>\n",
       "      <td>691</td>\n",
       "      <td>0</td>\n",
       "      <td>8915</td>\n",
       "      <td>166</td>\n",
       "      <td>30</td>\n",
       "      <td>20</td>\n",
       "      <td>385515</td>\n",
       "      <td>0</td>\n",
       "      <td>0</td>\n",
       "    </tr>\n",
       "    <tr>\n",
       "      <th>4</th>\n",
       "      <td>AKL</td>\n",
       "      <td>2011-06-28</td>\n",
       "      <td>9120</td>\n",
       "      <td>675</td>\n",
       "      <td>0</td>\n",
       "      <td>9080</td>\n",
       "      <td>96</td>\n",
       "      <td>59</td>\n",
       "      <td>57</td>\n",
       "      <td>408574</td>\n",
       "      <td>0</td>\n",
       "      <td>0</td>\n",
       "    </tr>\n",
       "    <tr>\n",
       "      <th>5</th>\n",
       "      <td>AKL</td>\n",
       "      <td>2011-06-29</td>\n",
       "      <td>9229</td>\n",
       "      <td>1004</td>\n",
       "      <td>0</td>\n",
       "      <td>14545</td>\n",
       "      <td>111</td>\n",
       "      <td>38</td>\n",
       "      <td>19</td>\n",
       "      <td>415473</td>\n",
       "      <td>0</td>\n",
       "      <td>0</td>\n",
       "    </tr>\n",
       "    <tr>\n",
       "      <th>6</th>\n",
       "      <td>AKL</td>\n",
       "      <td>2011-06-30</td>\n",
       "      <td>9224</td>\n",
       "      <td>751</td>\n",
       "      <td>0</td>\n",
       "      <td>6930</td>\n",
       "      <td>182</td>\n",
       "      <td>36</td>\n",
       "      <td>15</td>\n",
       "      <td>386337</td>\n",
       "      <td>0</td>\n",
       "      <td>0</td>\n",
       "    </tr>\n",
       "    <tr>\n",
       "      <th>7</th>\n",
       "      <td>AKL</td>\n",
       "      <td>2011-07-01</td>\n",
       "      <td>7239</td>\n",
       "      <td>897</td>\n",
       "      <td>0</td>\n",
       "      <td>4580</td>\n",
       "      <td>207</td>\n",
       "      <td>86</td>\n",
       "      <td>29</td>\n",
       "      <td>326766</td>\n",
       "      <td>0</td>\n",
       "      <td>0</td>\n",
       "    </tr>\n",
       "    <tr>\n",
       "      <th>8</th>\n",
       "      <td>AKL</td>\n",
       "      <td>2011-07-03</td>\n",
       "      <td>1174</td>\n",
       "      <td>78</td>\n",
       "      <td>0</td>\n",
       "      <td>110</td>\n",
       "      <td>8</td>\n",
       "      <td>0</td>\n",
       "      <td>5</td>\n",
       "      <td>19526</td>\n",
       "      <td>0</td>\n",
       "      <td>0</td>\n",
       "    </tr>\n",
       "    <tr>\n",
       "      <th>9</th>\n",
       "      <td>AKL</td>\n",
       "      <td>2011-07-04</td>\n",
       "      <td>9407</td>\n",
       "      <td>1053</td>\n",
       "      <td>0</td>\n",
       "      <td>11705</td>\n",
       "      <td>160</td>\n",
       "      <td>25</td>\n",
       "      <td>42</td>\n",
       "      <td>329334</td>\n",
       "      <td>0</td>\n",
       "      <td>0</td>\n",
       "    </tr>\n",
       "  </tbody>\n",
       "</table>\n",
       "</div>"
      ],
      "text/plain": [
       "  Warehouse_Section   Date_only  No_of_Picks    Bl  Ei     Mt   Pa  Ro  Se  \\\n",
       "0               AKL  2011-06-23         9478  1084   0  20315  118  69  49   \n",
       "1               AKL  2011-06-24         7959   625   0   7430  105  37  21   \n",
       "2               AKL  2011-06-26         1115     7   0    850   10   6   4   \n",
       "3               AKL  2011-06-27         9811   691   0   8915  166  30  20   \n",
       "4               AKL  2011-06-28         9120   675   0   9080   96  59  57   \n",
       "5               AKL  2011-06-29         9229  1004   0  14545  111  38  19   \n",
       "6               AKL  2011-06-30         9224   751   0   6930  182  36  15   \n",
       "7               AKL  2011-07-01         7239   897   0   4580  207  86  29   \n",
       "8               AKL  2011-07-03         1174    78   0    110    8   0   5   \n",
       "9               AKL  2011-07-04         9407  1053   0  11705  160  25  42   \n",
       "\n",
       "       St  VE  kg  \n",
       "0  460640   0   0  \n",
       "1  403496   0   0  \n",
       "2   23545   0   0  \n",
       "3  385515   0   0  \n",
       "4  408574   0   0  \n",
       "5  415473   0   0  \n",
       "6  386337   0   0  \n",
       "7  326766   0   0  \n",
       "8   19526   0   0  \n",
       "9  329334   0   0  "
      ]
     },
     "execution_count": 9,
     "metadata": {},
     "output_type": "execute_result"
    }
   ],
   "source": [
    "no_of_picks_and_pick_volume_per_date = pd.merge(\n",
    "    picks_per_date, \n",
    "    pick_volume_daily_sum_pivot, \n",
    "    on=['Warehouse_Section', 'Date_only'], \n",
    "    how='left'\n",
    ")\n",
    "no_of_picks_and_pick_volume_per_date.head(10)"
   ]
  },
  {
   "cell_type": "code",
   "execution_count": 10,
   "metadata": {},
   "outputs": [
    {
     "name": "stdout",
     "output_type": "stream",
     "text": [
      "<class 'pandas.core.frame.DataFrame'>\n",
      "Int64Index: 14005 entries, 0 to 14004\n",
      "Data columns (total 12 columns):\n",
      " #   Column             Non-Null Count  Dtype   \n",
      "---  ------             --------------  -----   \n",
      " 0   Warehouse_Section  14005 non-null  category\n",
      " 1   Date_only          14005 non-null  object  \n",
      " 2   No_of_Picks        14005 non-null  int64   \n",
      " 3   Bl                 14005 non-null  int32   \n",
      " 4   Ei                 14005 non-null  int32   \n",
      " 5   Mt                 14005 non-null  int32   \n",
      " 6   Pa                 14005 non-null  int32   \n",
      " 7   Ro                 14005 non-null  int32   \n",
      " 8   Se                 14005 non-null  int32   \n",
      " 9   St                 14005 non-null  int32   \n",
      " 10  VE                 14005 non-null  int32   \n",
      " 11  kg                 14005 non-null  int32   \n",
      "dtypes: category(1), int32(9), int64(1), object(1)\n",
      "memory usage: 834.5+ KB\n"
     ]
    }
   ],
   "source": [
    "no_of_picks_and_pick_volume_per_date.info()"
   ]
  },
  {
   "cell_type": "markdown",
   "metadata": {},
   "source": [
    "Handling datatypes"
   ]
  },
  {
   "cell_type": "code",
   "execution_count": 12,
   "metadata": {},
   "outputs": [
    {
     "name": "stdout",
     "output_type": "stream",
     "text": [
      "<class 'pandas.core.frame.DataFrame'>\n",
      "Int64Index: 14005 entries, 0 to 14004\n",
      "Data columns (total 12 columns):\n",
      " #   Column             Non-Null Count  Dtype         \n",
      "---  ------             --------------  -----         \n",
      " 0   Warehouse_Section  14005 non-null  category      \n",
      " 1   Date_only          14005 non-null  datetime64[ns]\n",
      " 2   No_of_Picks        14005 non-null  int32         \n",
      " 3   Bl                 14005 non-null  int32         \n",
      " 4   Ei                 14005 non-null  int32         \n",
      " 5   Mt                 14005 non-null  int32         \n",
      " 6   Pa                 14005 non-null  int32         \n",
      " 7   Ro                 14005 non-null  int32         \n",
      " 8   Se                 14005 non-null  int32         \n",
      " 9   St                 14005 non-null  int32         \n",
      " 10  VE                 14005 non-null  int32         \n",
      " 11  kg                 14005 non-null  int32         \n",
      "dtypes: category(1), datetime64[ns](1), int32(10)\n",
      "memory usage: 779.8 KB\n"
     ]
    }
   ],
   "source": [
    "no_of_picks_and_pick_volume_per_date['Date_only'] = pd.to_datetime(\n",
    "    no_of_picks_and_pick_volume_per_date['Date_only'], format=\"%Y-%m-%d\", errors=\"coerce\")\n",
    "no_of_picks_and_pick_volume_per_date['No_of_Picks'] = no_of_picks_and_pick_volume_per_date['No_of_Picks'].astype('int')\n",
    "no_of_picks_and_pick_volume_per_date.info()"
   ]
  },
  {
   "cell_type": "markdown",
   "metadata": {},
   "source": [
    "SHL Warehouse_Section was introduced only from 2015-09-01 so filtering out the DataFrame"
   ]
  },
  {
   "cell_type": "code",
   "execution_count": 14,
   "metadata": {},
   "outputs": [
    {
     "data": {
      "text/plain": [
       "(12692, 12)"
      ]
     },
     "execution_count": 14,
     "metadata": {},
     "output_type": "execute_result"
    }
   ],
   "source": [
    "no_of_picks_and_pick_volume_per_date = no_of_picks_and_pick_volume_per_date[\n",
    "    ~((no_of_picks_and_pick_volume_per_date['Warehouse_Section'] == 'SHL') & \n",
    "      (no_of_picks_and_pick_volume_per_date['Date_only'] < '2015-09-01'))\n",
    "]\n",
    "no_of_picks_and_pick_volume_per_date.shape"
   ]
  },
  {
   "cell_type": "markdown",
   "metadata": {},
   "source": [
    "Feature Engineering"
   ]
  },
  {
   "cell_type": "markdown",
   "metadata": {},
   "source": [
    "Time based features"
   ]
  },
  {
   "cell_type": "code",
   "execution_count": null,
   "metadata": {},
   "outputs": [],
   "source": [
    "# Extract time-based features from 'Date'\n",
    "no_of_picks_and_pick_volume_per_date['Day_of_Week'] = no_of_picks_and_pick_volume_per_date[\n",
    "    'Date_only'].dt.dayofweek  # 0=Monday, 6=Sunday\n",
    "no_of_picks_and_pick_volume_per_date['Is_Weekend'] = no_of_picks_and_pick_volume_per_date[\n",
    "    'Day_of_Week'].isin([5, 6]).astype(int)  # 1 if weekend (Saturday or Sunday), else 0\n",
    "no_of_picks_and_pick_volume_per_date['Month'] = no_of_picks_and_pick_volume_per_date['Date_only'].dt.month\n",
    "no_of_picks_and_pick_volume_per_date['Year'] = no_of_picks_and_pick_volume_per_date['Date_only'].dt.year\n",
    "\n",
    "# Applying sin and cos transformations to 'Day_of_Week' and Month (cyclic encoding)\n",
    "no_of_picks_and_pick_volume_per_date['sin_day'] = np.sin(2 * np.pi * no_of_picks_and_pick_volume_per_date['Day_of_Week'] / 7)\n",
    "no_of_picks_and_pick_volume_per_date['cos_day'] = np.cos(2 * np.pi * no_of_picks_and_pick_volume_per_date['Day_of_Week'] / 7)\n",
    "\n",
    "no_of_picks_and_pick_volume_per_date['sin_month'] = np.sin(2 * np.pi * no_of_picks_and_pick_volume_per_date['Month'] / 12) \n",
    "no_of_picks_and_pick_volume_per_date['cos_month'] = np.cos(2 * np.pi * no_of_picks_and_pick_volume_per_date['Month'] / 12)"
   ]
  },
  {
   "cell_type": "markdown",
   "metadata": {},
   "source": [
    "Adding Lag features. They're essentially a way to use past information (in this case no. of picks) to help with predictions. The Lag features are capturing how the number of picks on a given day depends on the number of picks in the past (such as 1 day ago, 7 days ago, 30 days ago, etc.)"
   ]
  },
  {
   "cell_type": "code",
   "execution_count": 21,
   "metadata": {},
   "outputs": [],
   "source": [
    "# Sort the df and create a list of the Lag values (e.g. lag of 1 day, 7 days)\n",
    "no_of_picks_and_pick_volume_per_date.sort_values(by=['Warehouse_Section', 'Date_only'], inplace=True)\n",
    "\n",
    "lag_values = [1, 7, 30, 90, 180, 365]\n",
    "\n",
    "for lag in lag_values:\n",
    "    no_of_picks_and_pick_volume_per_date[f'Lag_{lag}_Days'] = no_of_picks_and_pick_volume_per_date.groupby(\n",
    "        'Warehouse_Section')['No_of_Picks'].shift(lag)\n",
    "\n",
    "no_of_picks_and_pick_volume_per_date['Warehouse_Section'] = no_of_picks_and_pick_volume_per_date[\n",
    "    'Warehouse_Section'].astype('string')\n",
    "no_of_picks_and_pick_volume_per_date.fillna(0, inplace=True)"
   ]
  },
  {
   "cell_type": "code",
   "execution_count": 22,
   "metadata": {},
   "outputs": [
    {
     "name": "stdout",
     "output_type": "stream",
     "text": [
      "<class 'pandas.core.frame.DataFrame'>\n",
      "Int64Index: 12692 entries, 0 to 14004\n",
      "Data columns (total 26 columns):\n",
      " #   Column             Non-Null Count  Dtype         \n",
      "---  ------             --------------  -----         \n",
      " 0   Warehouse_Section  12692 non-null  string        \n",
      " 1   Date_only          12692 non-null  datetime64[ns]\n",
      " 2   No_of_Picks        12692 non-null  int32         \n",
      " 3   Bl                 12692 non-null  int32         \n",
      " 4   Ei                 12692 non-null  int32         \n",
      " 5   Mt                 12692 non-null  int32         \n",
      " 6   Pa                 12692 non-null  int32         \n",
      " 7   Ro                 12692 non-null  int32         \n",
      " 8   Se                 12692 non-null  int32         \n",
      " 9   St                 12692 non-null  int32         \n",
      " 10  VE                 12692 non-null  int32         \n",
      " 11  kg                 12692 non-null  int32         \n",
      " 12  Day_of_Week        12692 non-null  int64         \n",
      " 13  Is_Weekend         12692 non-null  int32         \n",
      " 14  Month              12692 non-null  int64         \n",
      " 15  Year               12692 non-null  int64         \n",
      " 16  sin_day            12692 non-null  float64       \n",
      " 17  cos_day            12692 non-null  float64       \n",
      " 18  sin_month          12692 non-null  float64       \n",
      " 19  cos_month          12692 non-null  float64       \n",
      " 20  Lag_1_Days         12692 non-null  float64       \n",
      " 21  Lag_7_Days         12692 non-null  float64       \n",
      " 22  Lag_30_Days        12692 non-null  float64       \n",
      " 23  Lag_90_Days        12692 non-null  float64       \n",
      " 24  Lag_180_Days       12692 non-null  float64       \n",
      " 25  Lag_365_Days       12692 non-null  float64       \n",
      "dtypes: datetime64[ns](1), float64(10), int32(11), int64(3), string(1)\n",
      "memory usage: 2.1 MB\n"
     ]
    }
   ],
   "source": [
    "no_of_picks_and_pick_volume_per_date.info()"
   ]
  },
  {
   "cell_type": "markdown",
   "metadata": {},
   "source": [
    "Correlation Analysis"
   ]
  },
  {
   "cell_type": "code",
   "execution_count": 23,
   "metadata": {},
   "outputs": [
    {
     "data": {
      "text/plain": [
       "Index(['No_of_Picks', 'Bl', 'Ei', 'Mt', 'Pa', 'Ro', 'Se', 'St', 'VE', 'kg',\n",
       "       'Day_of_Week', 'Is_Weekend', 'Month', 'Year', 'sin_day', 'cos_day',\n",
       "       'sin_month', 'cos_month', 'Lag_1_Days', 'Lag_7_Days', 'Lag_30_Days',\n",
       "       'Lag_90_Days', 'Lag_180_Days', 'Lag_365_Days'],\n",
       "      dtype='object')"
      ]
     },
     "execution_count": 23,
     "metadata": {},
     "output_type": "execute_result"
    }
   ],
   "source": [
    "numeric_features = no_of_picks_and_pick_volume_per_date.columns[2:]\n",
    "numeric_features"
   ]
  },
  {
   "cell_type": "code",
   "execution_count": 25,
   "metadata": {},
   "outputs": [
    {
     "data": {
      "image/png": "[encoded data removed]",
      "text/plain": [
       "<Figure size 1080x720 with 2 Axes>"
      ]
     },
     "metadata": {
      "needs_background": "light"
     },
     "output_type": "display_data"
    }
   ],
   "source": [
    "corr_matrix = no_of_picks_and_pick_volume_per_date[numeric_features].corr()\n",
    "\n",
    "# Plot heatmap\n",
    "plt.figure(figsize=(15, 10))\n",
    "sns.heatmap(corr_matrix, annot=True, cmap='coolwarm', fmt='.2f', linewidths=0.5)\n",
    "plt.title('Correlation Heatmap')\n",
    "plt.show()"
   ]
  },
  {
   "cell_type": "markdown",
   "metadata": {},
   "source": [
    "Based on the heatmap, we can see that the sum of Pick Volume per unit (St, Bl, Pa) have high correlation values with our target variable `No_of_Picks`. Same can be said about the time based Lag features. But we shouldn't include all variables with a large correlation value in order to prevent Multicollinearity as this would negatively affect the predictions. Based on the values, we decided to go with `St`, `Mt`, `Ro`, `VE`, `Is_Weekend` and `Lag_30_Days` as our input features"
   ]
  },
  {
   "cell_type": "markdown",
   "metadata": {},
   "source": [
    "### Data Preparation"
   ]
  },
  {
   "cell_type": "markdown",
   "metadata": {},
   "source": [
    "Step 1: Preparing X and y"
   ]
  },
  {
   "cell_type": "code",
   "execution_count": 49,
   "metadata": {},
   "outputs": [],
   "source": [
    "# The df was previously grouped by Warehouse_Section and sorted by date\n",
    "# Need to re-sort by time to make it consistent else the train-test split \n",
    "# will miss some Warehouse_Section\n",
    "no_of_picks_and_pick_volume_per_date.sort_values('Date_only', inplace=True)\n",
    "X = no_of_picks_and_pick_volume_per_date[['St', 'Mt', 'Ro', 'VE', 'Is_Weekend', 'Lag_30_Days', 'Warehouse_Section']]\n",
    "y = no_of_picks_and_pick_volume_per_date['No_of_Picks']"
   ]
  },
  {
   "cell_type": "markdown",
   "metadata": {},
   "source": [
    "Step 2: Splitting the data into training and testing sets (80% training and 20% testing)"
   ]
  },
  {
   "cell_type": "code",
   "execution_count": 50,
   "metadata": {},
   "outputs": [],
   "source": [
    "# The shuffle parameter in train_test_split is used to control whether the data is shuffled\n",
    "# before splitting it into training and testing sets. When shuffle=False, the data is not shuffled, \n",
    "# and the split is performed in a sequential manner. This can be useful for time-series data where \n",
    "# the order of the data points is meaningful and should be preserved.\n",
    "X_train, X_test, y_train, y_test = train_test_split(X, y, test_size=0.2, random_state=42, shuffle=False)"
   ]
  },
  {
   "cell_type": "markdown",
   "metadata": {},
   "source": [
    "Step 3: Identify Numerical and Categorical Columns"
   ]
  },
  {
   "cell_type": "code",
   "execution_count": 51,
   "metadata": {},
   "outputs": [
    {
     "name": "stdout",
     "output_type": "stream",
     "text": [
      "Categories in Warehouse_Section variable:  <StringArray>\n",
      "['AKL', 'HRL', 'Kabellager', 'Manuell', 'SHL']\n",
      "Length: 5, dtype: string\n"
     ]
    }
   ],
   "source": [
    "numerical_columns = ['St', 'Mt', 'Ro', 'VE', 'Is_Weekend', 'Lag_30_Days']\n",
    "categorical_columns = ['Warehouse_Section']\n",
    "\n",
    "print(\"Categories in Warehouse_Section variable: \", end=\" \")\n",
    "print(no_of_picks_and_pick_volume_per_date['Warehouse_Section'].unique())"
   ]
  },
  {
   "cell_type": "markdown",
   "metadata": {},
   "source": [
    "Step 4: Create preprocessing pipelines for Numerical and Categorical data"
   ]
  },
  {
   "cell_type": "code",
   "execution_count": 52,
   "metadata": {},
   "outputs": [],
   "source": [
    "numerical_pipeline = Pipeline(\n",
    "    steps=[\n",
    "        ('imputer', SimpleImputer(strategy='median')),\n",
    "        ('scaler', StandardScaler())\n",
    "    ]\n",
    ")\n",
    "\n",
    "categorical_pipeline = Pipeline(\n",
    "    steps=[\n",
    "        ('imputer', SimpleImputer(strategy='most_frequent')),\n",
    "        ('one_hot_encoder', OneHotEncoder())\n",
    "    ]\n",
    ")"
   ]
  },
  {
   "cell_type": "markdown",
   "metadata": {},
   "source": [
    "Step 5: Combine both pipelines using ColumnTransformer"
   ]
  },
  {
   "cell_type": "code",
   "execution_count": 53,
   "metadata": {},
   "outputs": [],
   "source": [
    "preprocessor = ColumnTransformer(\n",
    "    transformers=[\n",
    "        ('num_pipeline', numerical_pipeline, numerical_columns),\n",
    "        ('cat_pipeline', categorical_pipeline, categorical_columns),\n",
    "    ]\n",
    ")"
   ]
  },
  {
   "cell_type": "markdown",
   "metadata": {},
   "source": [
    "Step 6: Apply the preprocessor to the training data (Data Transformation)"
   ]
  },
  {
   "cell_type": "code",
   "execution_count": 54,
   "metadata": {},
   "outputs": [],
   "source": [
    "# Good practice to convert to NumPy arrays as it helps with faster performance and model compatibility\n",
    "X_train_arr = preprocessor.fit_transform(X_train)\n",
    "X_test_arr = preprocessor.transform(X_test)\n",
    "\n",
    "# Converting the y_train and y_test Pandas Series to NumPy arrays\n",
    "y_train_arr = y_train.to_numpy()\n",
    "y_test_arr = y_test.to_numpy()"
   ]
  },
  {
   "cell_type": "markdown",
   "metadata": {},
   "source": [
    "Step 7: Define the models to evaluate"
   ]
  },
  {
   "cell_type": "code",
   "execution_count": 55,
   "metadata": {},
   "outputs": [],
   "source": [
    "# n_jobs=-1 for parallelization\n",
    "models = {\n",
    "    'Random Forest': RandomForestRegressor(n_estimators=100, random_state=42, n_jobs=-1),\n",
    "    'K-Nearest Neighbors': KNeighborsRegressor(n_jobs=-1),  \n",
    "    'XGBoost': xgb.XGBRegressor(objective='reg:squarederror', random_state=42, n_jobs=-1),  \n",
    "    'LightGBM': lgb.LGBMRegressor(random_state=42, n_jobs=-1),  \n",
    "    'Decision Tree': DecisionTreeRegressor(random_state=42, max_depth=10),  \n",
    "    'Gradient Boosting': GradientBoostingRegressor(random_state=42), \n",
    "    'Linear Regression': LinearRegression()  \n",
    "}"
   ]
  },
  {
   "cell_type": "code",
   "execution_count": 56,
   "metadata": {},
   "outputs": [
    {
     "name": "stdout",
     "output_type": "stream",
     "text": [
      "Training Random Forest...\n",
      "Random Forest - RMSE: 685.6110342338245, R²: 0.9787852634504335 and completed in 0.61 s\n",
      "\n",
      "Training K-Nearest Neighbors...\n",
      "K-Nearest Neighbors - RMSE: 841.9684877242132, R²: 0.9680056183587454 and completed in 0.05 s\n",
      "\n",
      "Training XGBoost...\n",
      "XGBoost - RMSE: 715.2771368088772, R²: 0.9769096374511719 and completed in 0.07 s\n",
      "\n",
      "Training LightGBM...\n",
      "[LightGBM] [Info] Auto-choosing col-wise multi-threading, the overhead of testing was 0.000221 seconds.\n",
      "You can set `force_col_wise=true` to remove the overhead.\n",
      "[LightGBM] [Info] Total Bins 1050\n",
      "[LightGBM] [Info] Number of data points in the train set: 10153, number of used features: 11\n",
      "[LightGBM] [Info] Start training from score 2559.347779\n",
      "LightGBM - RMSE: 688.7480143074591, R²: 0.9785906853263537 and completed in 0.06 s\n",
      "\n",
      "Training Decision Tree...\n",
      "Decision Tree - RMSE: 791.8212649135904, R²: 0.9717032623939789 and completed in 0.04 s\n",
      "\n",
      "Training Gradient Boosting...\n",
      "Gradient Boosting - RMSE: 722.5779289600886, R²: 0.9764358689228357 and completed in 0.97 s\n",
      "\n",
      "Training Linear Regression...\n",
      "Linear Regression - RMSE: 874.33444278672, R²: 0.9654985601542992 and completed in 0.00 s\n",
      "\n"
     ]
    }
   ],
   "source": [
    "results = []\n",
    "\n",
    "for model_name, model in models.items():\n",
    "    print(f\"Training {model_name}...\")\n",
    "    start_time = time.time()\n",
    "\n",
    "    # Train the model\n",
    "    model.fit(X_train_arr, y_train_arr)\n",
    "\n",
    "    # Evaluate on the test set\n",
    "    y_pred = model.predict(X_test_arr)\n",
    "    rmse = np.sqrt(mean_squared_error(y_test_arr, y_pred))\n",
    "    r2 = r2_score(y_test_arr, y_pred)\n",
    "    execution_time = time.time() - start_time\n",
    "    \n",
    "    # Store the results\n",
    "    results.append({\n",
    "        'Model': model_name,\n",
    "        'RMSE': rmse,\n",
    "        'R-squared': r2, \n",
    "        'Execution Time (s)': execution_time\n",
    "    })\n",
    "\n",
    "    print(f\"{model_name} - RMSE: {rmse}, R²: {r2} and completed in {execution_time:.2f} s\\n\")"
   ]
  },
  {
   "cell_type": "markdown",
   "metadata": {},
   "source": [
    "Step 8: Compare the results"
   ]
  },
  {
   "cell_type": "code",
   "execution_count": 57,
   "metadata": {},
   "outputs": [
    {
     "name": "stdout",
     "output_type": "stream",
     "text": [
      "                 Model        RMSE  R-squared  Execution Time (s)\n",
      "0        Random Forest  685.611034   0.978785            0.613932\n",
      "3             LightGBM  688.748014   0.978591            0.064014\n",
      "2              XGBoost  715.277137   0.976910            0.072243\n",
      "5    Gradient Boosting  722.577929   0.976436            0.968136\n",
      "4        Decision Tree  791.821265   0.971703            0.041515\n",
      "1  K-Nearest Neighbors  841.968488   0.968006            0.047561\n",
      "6    Linear Regression  874.334443   0.965499            0.003000\n"
     ]
    }
   ],
   "source": [
    "results_df = pd.DataFrame(results)\n",
    "print(results_df.sort_values('R-squared', ascending=False))"
   ]
  },
  {
   "cell_type": "markdown",
   "metadata": {},
   "source": [
    "At first glance, `Random Forest` looks to be our best model. But we need to understand how the model makes decisions and for this we need to look at which features the model is making use of. Analyzing Feature importance will help us with that"
   ]
  },
  {
   "cell_type": "markdown",
   "metadata": {},
   "source": [
    "To understand which features had the most impact in the `Random Forest` model we need to get the coefficients (feature importance) and combine with the feature names into a DataFrame to analyze"
   ]
  },
  {
   "cell_type": "code",
   "execution_count": 59,
   "metadata": {},
   "outputs": [
    {
     "data": {
      "image/png": "[encoded data removed]",
      "text/plain": [
       "<Figure size 720x432 with 1 Axes>"
      ]
     },
     "metadata": {
      "needs_background": "light"
     },
     "output_type": "display_data"
    },
    {
     "name": "stdout",
     "output_type": "stream",
     "text": [
      "        Feature  Importance\n",
      "0            St    0.943421\n",
      "1            Mt    0.023030\n",
      "5   Lag_30_Days    0.009974\n",
      "7           HRL    0.006797\n",
      "10          SHL    0.003738\n",
      "6           AKL    0.003653\n",
      "3            VE    0.003559\n",
      "2            Ro    0.003209\n",
      "4    Is_Weekend    0.002596\n",
      "9       Manuell    0.000016\n",
      "8    Kabellager    0.000006\n"
     ]
    }
   ],
   "source": [
    "# Fit the model\n",
    "rf_model = models['Random Forest']\n",
    "rf_model.fit(X_train_arr, y_train_arr)\n",
    "\n",
    "rf_importances = rf_model.feature_importances_\n",
    "\n",
    "features = numerical_columns + list(no_of_picks_and_pick_volume_per_date['Warehouse_Section'].unique())\n",
    "rf_feature_importance_df = pd.DataFrame({\n",
    "    'Feature': features,\n",
    "    'Importance': rf_importances\n",
    "})\n",
    "\n",
    "# Sort by absolute value of the coefficients to get most important features\n",
    "rf_feature_importance_df = rf_feature_importance_df.sort_values(by='Importance', ascending=False)\n",
    "\n",
    "# Plotting the feature importances (coefficients)\n",
    "plt.figure(figsize=(10, 6))\n",
    "sns.barplot(x='Importance', y='Feature', data=rf_feature_importance_df)\n",
    "plt.title('Feature Importance - Random Forest')\n",
    "plt.xlabel('Importance')\n",
    "plt.ylabel('Feature')\n",
    "plt.show()\n",
    "\n",
    "print(rf_feature_importance_df)"
   ]
  },
  {
   "cell_type": "markdown",
   "metadata": {},
   "source": [
    "Here we can see that Random Forest was relying solely on St for making its predictions. This doesn't make it ideal in a real-world scenario where the No_of_Picks could depend on multiple factors. Hence we can conclude that this model isn't great for future predictions"
   ]
  },
  {
   "cell_type": "markdown",
   "metadata": {},
   "source": [
    "`LightGBM` Feature Importance"
   ]
  },
  {
   "cell_type": "code",
   "execution_count": 61,
   "metadata": {},
   "outputs": [
    {
     "name": "stdout",
     "output_type": "stream",
     "text": [
      "[LightGBM] [Info] Auto-choosing col-wise multi-threading, the overhead of testing was 0.000261 seconds.\n",
      "You can set `force_col_wise=true` to remove the overhead.\n",
      "[LightGBM] [Info] Total Bins 1050\n",
      "[LightGBM] [Info] Number of data points in the train set: 10153, number of used features: 11\n",
      "[LightGBM] [Info] Start training from score 2559.347779\n"
     ]
    },
    {
     "data": {
      "image/png": "[encoded data removed]",
      "text/plain": [
       "<Figure size 720x432 with 1 Axes>"
      ]
     },
     "metadata": {
      "needs_background": "light"
     },
     "output_type": "display_data"
    },
    {
     "name": "stdout",
     "output_type": "stream",
     "text": [
      "        Feature  Importance\n",
      "0            St         711\n",
      "1            Mt         678\n",
      "5   Lag_30_Days         570\n",
      "2            Ro         470\n",
      "3            VE         415\n",
      "6           AKL          48\n",
      "4    Is_Weekend          46\n",
      "7           HRL          32\n",
      "10          SHL          19\n",
      "9       Manuell          10\n",
      "8    Kabellager           1\n"
     ]
    }
   ],
   "source": [
    "# Fit the model\n",
    "lgb_model = models['LightGBM']\n",
    "lgb_model.fit(X_train_arr, y_train_arr)\n",
    "\n",
    "# Extract feature importances\n",
    "lgb_importances = lgb_model.feature_importances_\n",
    "\n",
    "# Combine the feature names with their importance values\n",
    "lgb_feature_importance = pd.DataFrame({\n",
    "    'Feature': features,\n",
    "    'Importance': lgb_importances\n",
    "})\n",
    "\n",
    "# Sort by importance in descending order\n",
    "lgb_feature_importance = lgb_feature_importance.sort_values(by='Importance', ascending=False)\n",
    "\n",
    "# Plotting feature importance\n",
    "plt.figure(figsize=(10, 6))\n",
    "sns.barplot(x='Importance', y='Feature', data=lgb_feature_importance)\n",
    "plt.title('Feature Importance - LightGBM')\n",
    "plt.xlabel('Importance')\n",
    "plt.ylabel('Feature')\n",
    "plt.show()\n",
    "\n",
    "# Print the sorted feature importance\n",
    "print(lgb_feature_importance[['Feature', 'Importance']])"
   ]
  },
  {
   "cell_type": "markdown",
   "metadata": {},
   "source": [
    "LightGBM is providing more balanced feature importance compared to Random Forest, where St was overwhelmingly important (94%). The importance of St in LightGBM (711) is still significant, but other features like Mt, Lag_30_Days, and Ro also have notable contributions. This suggests that LightGBM is more flexible in considering various features"
   ]
  },
  {
   "cell_type": "markdown",
   "metadata": {},
   "source": [
    "`XGBoost` Feature Importance"
   ]
  },
  {
   "cell_type": "code",
   "execution_count": 62,
   "metadata": {},
   "outputs": [
    {
     "data": {
      "image/png": "[encoded data removed]",
      "text/plain": [
       "<Figure size 720x432 with 1 Axes>"
      ]
     },
     "metadata": {
      "needs_background": "light"
     },
     "output_type": "display_data"
    },
    {
     "name": "stdout",
     "output_type": "stream",
     "text": [
      "   Feature  Importance\n",
      "0       f0      1211.0\n",
      "1       f1      1152.0\n",
      "5       f5       864.0\n",
      "2       f2       802.0\n",
      "3       f3       655.0\n",
      "6       f6        44.0\n",
      "4       f4        43.0\n",
      "10     f10        18.0\n",
      "7       f7        16.0\n",
      "9       f9         8.0\n",
      "8       f8         2.0\n"
     ]
    }
   ],
   "source": [
    "# Fit the model\n",
    "xgb_model = models['XGBoost']\n",
    "xgb_model.fit(X_train_arr, y_train_arr)\n",
    "\n",
    "# Extract feature importances (booster-based method)\n",
    "xgb_importances = xgb_model.get_booster().get_score(importance_type='weight')\n",
    "\n",
    "# Convert to a DataFrame for better readability\n",
    "xgb_feature_importance = pd.DataFrame({\n",
    "    'Feature': list(xgb_importances.keys()),\n",
    "    'Importance': list(xgb_importances.values())\n",
    "})\n",
    "\n",
    "# Sort by importance in descending order\n",
    "xgb_feature_importance = xgb_feature_importance.sort_values(by='Importance', ascending=False)\n",
    "\n",
    "# Plotting feature importance\n",
    "plt.figure(figsize=(10, 6))\n",
    "sns.barplot(x='Importance', y='Feature', data=xgb_feature_importance)\n",
    "plt.title('Feature Importance - XGBoost')\n",
    "plt.xlabel('Importance')\n",
    "plt.ylabel('Feature')\n",
    "plt.show()\n",
    "\n",
    "# Print the sorted feature importance\n",
    "print(xgb_feature_importance[['Feature', 'Importance']])"
   ]
  },
  {
   "cell_type": "markdown",
   "metadata": {},
   "source": [
    "Conclusion"
   ]
  },
  {
   "cell_type": "markdown",
   "metadata": {},
   "source": [
    "Random Forest was relying solely on St for making its predictions. This doesn't make it ideal. The feature importance of XGBoost is spread out similar to LightGBM and should definitely be better at making predicitions than Random Forest on unseen data. \n",
    "\n",
    "Since LightGBM has a slighly higher R² (0.978591), lower RMSE (688.748014) and faster execution time (0.064014 s) than XGBoost, we can conclude that `LightGBM` is the best model for making predictions on the `No_of_Picks`\n",
    "\n",
    "The insights gained from feature importance would help the business understand which factors most affect the number of picks per day, allowing for better staff allocation."
   ]
  }
 ],
 "metadata": {
  "kernelspec": {
   "display_name": "base",
   "language": "python",
   "name": "python3"
  },
  "language_info": {
   "codemirror_mode": {
    "name": "ipython",
    "version": 3
   },
   "file_extension": ".py",
   "mimetype": "text/x-python",
   "name": "python",
   "nbconvert_exporter": "python",
   "pygments_lexer": "ipython3",
   "version": "3.9.12"
  }
 },
 "nbformat": 4,
 "nbformat_minor": 2
}
